{
 "cells": [
  {
   "cell_type": "code",
   "execution_count": 1,
   "metadata": {},
   "outputs": [],
   "source": [
    "import numpy as np\n",
    "import pandas as pd\n",
    "import matplotlib.pyplot as plt\n",
    "import seaborn as sns\n",
    "%matplotlib inline"
   ]
  },
  {
   "cell_type": "code",
   "execution_count": 2,
   "metadata": {},
   "outputs": [],
   "source": [
    "sales = pd.read_excel('Data_Analysis.xlsx',sheet_name='Sales',skiprows=5, header=1)"
   ]
  },
  {
   "cell_type": "code",
   "execution_count": 3,
   "metadata": {},
   "outputs": [
    {
     "data": {
      "text/html": [
       "<div>\n",
       "<style scoped>\n",
       "    .dataframe tbody tr th:only-of-type {\n",
       "        vertical-align: middle;\n",
       "    }\n",
       "\n",
       "    .dataframe tbody tr th {\n",
       "        vertical-align: top;\n",
       "    }\n",
       "\n",
       "    .dataframe thead th {\n",
       "        text-align: right;\n",
       "    }\n",
       "</style>\n",
       "<table border=\"1\" class=\"dataframe\">\n",
       "  <thead>\n",
       "    <tr style=\"text-align: right;\">\n",
       "      <th></th>\n",
       "      <th>Product Name</th>\n",
       "      <th>Order Number</th>\n",
       "      <th>Sales Channel</th>\n",
       "      <th>Quantity</th>\n",
       "      <th>Unit Price Before Discount</th>\n",
       "      <th>Unit Price AFTER Discount</th>\n",
       "      <th>Extended Price</th>\n",
       "      <th>Shipping Method</th>\n",
       "    </tr>\n",
       "  </thead>\n",
       "  <tbody>\n",
       "    <tr>\n",
       "      <th>0</th>\n",
       "      <td>PRODUCTA</td>\n",
       "      <td>141491</td>\n",
       "      <td>CHANNEL W</td>\n",
       "      <td>1</td>\n",
       "      <td>570.0</td>\n",
       "      <td>399.00</td>\n",
       "      <td>399.00</td>\n",
       "      <td>Flat Rate Shipping</td>\n",
       "    </tr>\n",
       "    <tr>\n",
       "      <th>1</th>\n",
       "      <td>PRODUCTAA</td>\n",
       "      <td>141492</td>\n",
       "      <td>CHANNEL A</td>\n",
       "      <td>1</td>\n",
       "      <td>195.0</td>\n",
       "      <td>143.52</td>\n",
       "      <td>143.52</td>\n",
       "      <td>Warehouse Pickup</td>\n",
       "    </tr>\n",
       "    <tr>\n",
       "      <th>2</th>\n",
       "      <td>PRODUCTAD</td>\n",
       "      <td>141492</td>\n",
       "      <td>CHANNEL A</td>\n",
       "      <td>1</td>\n",
       "      <td>642.0</td>\n",
       "      <td>287.83</td>\n",
       "      <td>287.83</td>\n",
       "      <td>Warehouse Pickup</td>\n",
       "    </tr>\n",
       "    <tr>\n",
       "      <th>3</th>\n",
       "      <td>PRODUCTAAC</td>\n",
       "      <td>141493</td>\n",
       "      <td>CHANNEL W</td>\n",
       "      <td>1</td>\n",
       "      <td>435.0</td>\n",
       "      <td>348.00</td>\n",
       "      <td>348.00</td>\n",
       "      <td>Flat Rate Shipping</td>\n",
       "    </tr>\n",
       "    <tr>\n",
       "      <th>4</th>\n",
       "      <td>PRODUCTAAD</td>\n",
       "      <td>141494</td>\n",
       "      <td>CHANNEL A</td>\n",
       "      <td>4</td>\n",
       "      <td>10.0</td>\n",
       "      <td>60.00</td>\n",
       "      <td>240.00</td>\n",
       "      <td>Warehouse Pickup</td>\n",
       "    </tr>\n",
       "  </tbody>\n",
       "</table>\n",
       "</div>"
      ],
      "text/plain": [
       "  Product Name  Order Number Sales Channel  Quantity  \\\n",
       "0     PRODUCTA        141491     CHANNEL W         1   \n",
       "1    PRODUCTAA        141492     CHANNEL A         1   \n",
       "2    PRODUCTAD        141492     CHANNEL A         1   \n",
       "3   PRODUCTAAC        141493     CHANNEL W         1   \n",
       "4   PRODUCTAAD        141494     CHANNEL A         4   \n",
       "\n",
       "   Unit Price Before Discount  Unit Price AFTER Discount  Extended Price  \\\n",
       "0                       570.0                     399.00          399.00   \n",
       "1                       195.0                     143.52          143.52   \n",
       "2                       642.0                     287.83          287.83   \n",
       "3                       435.0                     348.00          348.00   \n",
       "4                        10.0                      60.00          240.00   \n",
       "\n",
       "      Shipping Method  \n",
       "0  Flat Rate Shipping  \n",
       "1    Warehouse Pickup  \n",
       "2    Warehouse Pickup  \n",
       "3  Flat Rate Shipping  \n",
       "4    Warehouse Pickup  "
      ]
     },
     "execution_count": 3,
     "metadata": {},
     "output_type": "execute_result"
    }
   ],
   "source": [
    "sales.head()"
   ]
  },
  {
   "cell_type": "code",
   "execution_count": 4,
   "metadata": {},
   "outputs": [],
   "source": [
    "sku = pd.read_excel('Data_Analysis.xlsx',sheet_name='productSKU',skiprows=3,header=0)\n",
    "sku = sku[1:]"
   ]
  },
  {
   "cell_type": "code",
   "execution_count": 5,
   "metadata": {},
   "outputs": [
    {
     "data": {
      "text/html": [
       "<div>\n",
       "<style scoped>\n",
       "    .dataframe tbody tr th:only-of-type {\n",
       "        vertical-align: middle;\n",
       "    }\n",
       "\n",
       "    .dataframe tbody tr th {\n",
       "        vertical-align: top;\n",
       "    }\n",
       "\n",
       "    .dataframe thead th {\n",
       "        text-align: right;\n",
       "    }\n",
       "</style>\n",
       "<table border=\"1\" class=\"dataframe\">\n",
       "  <thead>\n",
       "    <tr style=\"text-align: right;\">\n",
       "      <th></th>\n",
       "      <th>Id</th>\n",
       "      <th>PRODUCT</th>\n",
       "      <th>Build Type</th>\n",
       "      <th>Shipping Weight</th>\n",
       "      <th>Default Cost</th>\n",
       "      <th>Shipping Width</th>\n",
       "      <th>Shipping Height</th>\n",
       "      <th>Shipping Depth</th>\n",
       "      <th>Sku Volume</th>\n",
       "      <th>Amazon Fd Color</th>\n",
       "      <th>...</th>\n",
       "      <th>Medium Id</th>\n",
       "      <th>Type</th>\n",
       "      <th>Model Stock Id</th>\n",
       "      <th>Inventory Type Id</th>\n",
       "      <th>Reorder Point</th>\n",
       "      <th>Quantity</th>\n",
       "      <th>Location Hierarchy Id</th>\n",
       "      <th>Configuration Schema In Sync</th>\n",
       "      <th>Houzz Category</th>\n",
       "      <th>Google Targeting Status</th>\n",
       "    </tr>\n",
       "  </thead>\n",
       "  <tbody>\n",
       "    <tr>\n",
       "      <th>1</th>\n",
       "      <td>1697</td>\n",
       "      <td>PRODUCTA</td>\n",
       "      <td>3</td>\n",
       "      <td>48</td>\n",
       "      <td>173.00000</td>\n",
       "      <td>0</td>\n",
       "      <td>0</td>\n",
       "      <td>0</td>\n",
       "      <td>0</td>\n",
       "      <td>White</td>\n",
       "      <td>...</td>\n",
       "      <td>0</td>\n",
       "      <td>NaN</td>\n",
       "      <td>0</td>\n",
       "      <td>0</td>\n",
       "      <td>0</td>\n",
       "      <td>0</td>\n",
       "      <td>0</td>\n",
       "      <td>1</td>\n",
       "      <td>17001</td>\n",
       "      <td>4</td>\n",
       "    </tr>\n",
       "    <tr>\n",
       "      <th>2</th>\n",
       "      <td>1697</td>\n",
       "      <td>PRODUCTA</td>\n",
       "      <td>3</td>\n",
       "      <td>48</td>\n",
       "      <td>173.00000</td>\n",
       "      <td>0</td>\n",
       "      <td>0</td>\n",
       "      <td>0</td>\n",
       "      <td>0</td>\n",
       "      <td>Black</td>\n",
       "      <td>...</td>\n",
       "      <td>0</td>\n",
       "      <td>NaN</td>\n",
       "      <td>0</td>\n",
       "      <td>0</td>\n",
       "      <td>0</td>\n",
       "      <td>0</td>\n",
       "      <td>0</td>\n",
       "      <td>1</td>\n",
       "      <td>17001</td>\n",
       "      <td>4</td>\n",
       "    </tr>\n",
       "    <tr>\n",
       "      <th>3</th>\n",
       "      <td>862</td>\n",
       "      <td>PRODUCTAA</td>\n",
       "      <td>1</td>\n",
       "      <td>19.99</td>\n",
       "      <td>43.00000</td>\n",
       "      <td>1</td>\n",
       "      <td>1</td>\n",
       "      <td>1</td>\n",
       "      <td>0</td>\n",
       "      <td>Clear</td>\n",
       "      <td>...</td>\n",
       "      <td>0</td>\n",
       "      <td>NaN</td>\n",
       "      <td>0</td>\n",
       "      <td>0</td>\n",
       "      <td>0</td>\n",
       "      <td>0</td>\n",
       "      <td>0</td>\n",
       "      <td>1</td>\n",
       "      <td>14007</td>\n",
       "      <td>3</td>\n",
       "    </tr>\n",
       "    <tr>\n",
       "      <th>4</th>\n",
       "      <td>971</td>\n",
       "      <td>PRODUCTAAC</td>\n",
       "      <td>1</td>\n",
       "      <td>1.99</td>\n",
       "      <td>114.00000</td>\n",
       "      <td>0</td>\n",
       "      <td>0</td>\n",
       "      <td>0</td>\n",
       "      <td>0</td>\n",
       "      <td>Beige</td>\n",
       "      <td>...</td>\n",
       "      <td>0</td>\n",
       "      <td>NaN</td>\n",
       "      <td>0</td>\n",
       "      <td>0</td>\n",
       "      <td>0</td>\n",
       "      <td>0</td>\n",
       "      <td>0</td>\n",
       "      <td>1</td>\n",
       "      <td>14005</td>\n",
       "      <td>1</td>\n",
       "    </tr>\n",
       "    <tr>\n",
       "      <th>5</th>\n",
       "      <td>971</td>\n",
       "      <td>PRODUCTAAC</td>\n",
       "      <td>1</td>\n",
       "      <td>1.99</td>\n",
       "      <td>114.00000</td>\n",
       "      <td>0</td>\n",
       "      <td>0</td>\n",
       "      <td>0</td>\n",
       "      <td>0</td>\n",
       "      <td>Beige</td>\n",
       "      <td>...</td>\n",
       "      <td>0</td>\n",
       "      <td>NaN</td>\n",
       "      <td>0</td>\n",
       "      <td>0</td>\n",
       "      <td>0</td>\n",
       "      <td>0</td>\n",
       "      <td>0</td>\n",
       "      <td>1</td>\n",
       "      <td>14005</td>\n",
       "      <td>1</td>\n",
       "    </tr>\n",
       "  </tbody>\n",
       "</table>\n",
       "<p>5 rows × 33 columns</p>\n",
       "</div>"
      ],
      "text/plain": [
       "     Id     PRODUCT Build Type Shipping Weight Default Cost Shipping Width  \\\n",
       "1  1697    PRODUCTA          3              48    173.00000              0   \n",
       "2  1697    PRODUCTA          3              48    173.00000              0   \n",
       "3   862   PRODUCTAA          1           19.99     43.00000              1   \n",
       "4   971  PRODUCTAAC          1            1.99    114.00000              0   \n",
       "5   971  PRODUCTAAC          1            1.99    114.00000              0   \n",
       "\n",
       "  Shipping Height Shipping Depth Sku Volume Amazon Fd Color  \\\n",
       "1               0              0          0           White   \n",
       "2               0              0          0           Black   \n",
       "3               1              1          0           Clear   \n",
       "4               0              0          0           Beige   \n",
       "5               0              0          0           Beige   \n",
       "\n",
       "            ...           Medium Id Type Model Stock Id Inventory Type Id  \\\n",
       "1           ...                   0  NaN              0                 0   \n",
       "2           ...                   0  NaN              0                 0   \n",
       "3           ...                   0  NaN              0                 0   \n",
       "4           ...                   0  NaN              0                 0   \n",
       "5           ...                   0  NaN              0                 0   \n",
       "\n",
       "  Reorder Point Quantity Location Hierarchy Id Configuration Schema In Sync  \\\n",
       "1             0        0                     0                            1   \n",
       "2             0        0                     0                            1   \n",
       "3             0        0                     0                            1   \n",
       "4             0        0                     0                            1   \n",
       "5             0        0                     0                            1   \n",
       "\n",
       "  Houzz Category Google Targeting Status  \n",
       "1          17001                       4  \n",
       "2          17001                       4  \n",
       "3          14007                       3  \n",
       "4          14005                       1  \n",
       "5          14005                       1  \n",
       "\n",
       "[5 rows x 33 columns]"
      ]
     },
     "execution_count": 5,
     "metadata": {},
     "output_type": "execute_result"
    }
   ],
   "source": [
    "sku.head()"
   ]
  },
  {
   "cell_type": "code",
   "execution_count": 6,
   "metadata": {},
   "outputs": [
    {
     "data": {
      "text/plain": [
       "Index(['Id', 'PRODUCT', 'Build Type', 'Shipping Weight', 'Default Cost',\n",
       "       'Shipping Width', 'Shipping Height', 'Shipping Depth', 'Sku Volume',\n",
       "       'Amazon Fd Color', 'Amazon Lead Time To Ship', 'Amazon Style',\n",
       "       'Amazon Style.1', 'CATEGORY', 'Amazon Fd Size',\n",
       "       'Amazon Variation Theme', 'Amazon Specialfeatures4',\n",
       "       'Amazon Specialfeatures5', 'Fulfillment Type', 'Amazon Update Delete',\n",
       "       'Model Id', 'Default Vendor Id', 'Medium', 'Medium Id', 'Type',\n",
       "       'Model Stock Id', 'Inventory Type Id', 'Reorder Point', 'Quantity',\n",
       "       'Location Hierarchy Id', 'Configuration Schema In Sync',\n",
       "       'Houzz Category', 'Google Targeting Status'],\n",
       "      dtype='object')"
      ]
     },
     "execution_count": 6,
     "metadata": {},
     "output_type": "execute_result"
    }
   ],
   "source": [
    "sku.columns"
   ]
  },
  {
   "cell_type": "code",
   "execution_count": 7,
   "metadata": {},
   "outputs": [],
   "source": [
    "sku = sku[['PRODUCT','Default Cost','CATEGORY']]"
   ]
  },
  {
   "cell_type": "code",
   "execution_count": 8,
   "metadata": {},
   "outputs": [
    {
     "data": {
      "text/html": [
       "<div>\n",
       "<style scoped>\n",
       "    .dataframe tbody tr th:only-of-type {\n",
       "        vertical-align: middle;\n",
       "    }\n",
       "\n",
       "    .dataframe tbody tr th {\n",
       "        vertical-align: top;\n",
       "    }\n",
       "\n",
       "    .dataframe thead th {\n",
       "        text-align: right;\n",
       "    }\n",
       "</style>\n",
       "<table border=\"1\" class=\"dataframe\">\n",
       "  <thead>\n",
       "    <tr style=\"text-align: right;\">\n",
       "      <th></th>\n",
       "      <th>PRODUCT</th>\n",
       "      <th>Default Cost</th>\n",
       "      <th>CATEGORY</th>\n",
       "    </tr>\n",
       "  </thead>\n",
       "  <tbody>\n",
       "    <tr>\n",
       "      <th>1</th>\n",
       "      <td>PRODUCTA</td>\n",
       "      <td>173.00000</td>\n",
       "      <td>Bars</td>\n",
       "    </tr>\n",
       "    <tr>\n",
       "      <th>2</th>\n",
       "      <td>PRODUCTA</td>\n",
       "      <td>173.00000</td>\n",
       "      <td>Bars</td>\n",
       "    </tr>\n",
       "    <tr>\n",
       "      <th>3</th>\n",
       "      <td>PRODUCTAA</td>\n",
       "      <td>43.00000</td>\n",
       "      <td>End Tables</td>\n",
       "    </tr>\n",
       "    <tr>\n",
       "      <th>4</th>\n",
       "      <td>PRODUCTAAC</td>\n",
       "      <td>114.00000</td>\n",
       "      <td>Ottomans</td>\n",
       "    </tr>\n",
       "    <tr>\n",
       "      <th>5</th>\n",
       "      <td>PRODUCTAAC</td>\n",
       "      <td>114.00000</td>\n",
       "      <td>Ottomans</td>\n",
       "    </tr>\n",
       "  </tbody>\n",
       "</table>\n",
       "</div>"
      ],
      "text/plain": [
       "      PRODUCT Default Cost    CATEGORY\n",
       "1    PRODUCTA    173.00000        Bars\n",
       "2    PRODUCTA    173.00000        Bars\n",
       "3   PRODUCTAA     43.00000  End Tables\n",
       "4  PRODUCTAAC    114.00000    Ottomans\n",
       "5  PRODUCTAAC    114.00000    Ottomans"
      ]
     },
     "execution_count": 8,
     "metadata": {},
     "output_type": "execute_result"
    }
   ],
   "source": [
    "sku.head()"
   ]
  },
  {
   "cell_type": "code",
   "execution_count": 9,
   "metadata": {},
   "outputs": [],
   "source": [
    "df = pd.merge(sales,sku,how = 'left',left_on = 'Product Name', right_on = 'PRODUCT')"
   ]
  },
  {
   "cell_type": "code",
   "execution_count": 10,
   "metadata": {},
   "outputs": [],
   "source": [
    "df.drop('PRODUCT',axis= 1,inplace=True)"
   ]
  },
  {
   "cell_type": "code",
   "execution_count": 11,
   "metadata": {},
   "outputs": [],
   "source": [
    "df.reset_index(drop=True,inplace=True)"
   ]
  },
  {
   "cell_type": "code",
   "execution_count": 12,
   "metadata": {},
   "outputs": [
    {
     "data": {
      "text/html": [
       "<div>\n",
       "<style scoped>\n",
       "    .dataframe tbody tr th:only-of-type {\n",
       "        vertical-align: middle;\n",
       "    }\n",
       "\n",
       "    .dataframe tbody tr th {\n",
       "        vertical-align: top;\n",
       "    }\n",
       "\n",
       "    .dataframe thead th {\n",
       "        text-align: right;\n",
       "    }\n",
       "</style>\n",
       "<table border=\"1\" class=\"dataframe\">\n",
       "  <thead>\n",
       "    <tr style=\"text-align: right;\">\n",
       "      <th></th>\n",
       "      <th>Product Name</th>\n",
       "      <th>Order Number</th>\n",
       "      <th>Sales Channel</th>\n",
       "      <th>Quantity</th>\n",
       "      <th>Unit Price Before Discount</th>\n",
       "      <th>Unit Price AFTER Discount</th>\n",
       "      <th>Extended Price</th>\n",
       "      <th>Shipping Method</th>\n",
       "      <th>Default Cost</th>\n",
       "      <th>CATEGORY</th>\n",
       "    </tr>\n",
       "  </thead>\n",
       "  <tbody>\n",
       "    <tr>\n",
       "      <th>0</th>\n",
       "      <td>PRODUCTA</td>\n",
       "      <td>141491</td>\n",
       "      <td>CHANNEL W</td>\n",
       "      <td>1</td>\n",
       "      <td>570.0</td>\n",
       "      <td>399.00</td>\n",
       "      <td>399.00</td>\n",
       "      <td>Flat Rate Shipping</td>\n",
       "      <td>173.00000</td>\n",
       "      <td>Bars</td>\n",
       "    </tr>\n",
       "    <tr>\n",
       "      <th>1</th>\n",
       "      <td>PRODUCTA</td>\n",
       "      <td>141491</td>\n",
       "      <td>CHANNEL W</td>\n",
       "      <td>1</td>\n",
       "      <td>570.0</td>\n",
       "      <td>399.00</td>\n",
       "      <td>399.00</td>\n",
       "      <td>Flat Rate Shipping</td>\n",
       "      <td>173.00000</td>\n",
       "      <td>Bars</td>\n",
       "    </tr>\n",
       "    <tr>\n",
       "      <th>2</th>\n",
       "      <td>PRODUCTAA</td>\n",
       "      <td>141492</td>\n",
       "      <td>CHANNEL A</td>\n",
       "      <td>1</td>\n",
       "      <td>195.0</td>\n",
       "      <td>143.52</td>\n",
       "      <td>143.52</td>\n",
       "      <td>Warehouse Pickup</td>\n",
       "      <td>43.00000</td>\n",
       "      <td>End Tables</td>\n",
       "    </tr>\n",
       "    <tr>\n",
       "      <th>3</th>\n",
       "      <td>PRODUCTAD</td>\n",
       "      <td>141492</td>\n",
       "      <td>CHANNEL A</td>\n",
       "      <td>1</td>\n",
       "      <td>642.0</td>\n",
       "      <td>287.83</td>\n",
       "      <td>287.83</td>\n",
       "      <td>Warehouse Pickup</td>\n",
       "      <td>388.00000</td>\n",
       "      <td>Tables</td>\n",
       "    </tr>\n",
       "    <tr>\n",
       "      <th>4</th>\n",
       "      <td>PRODUCTAD</td>\n",
       "      <td>141492</td>\n",
       "      <td>CHANNEL A</td>\n",
       "      <td>1</td>\n",
       "      <td>642.0</td>\n",
       "      <td>287.83</td>\n",
       "      <td>287.83</td>\n",
       "      <td>Warehouse Pickup</td>\n",
       "      <td>196.00000</td>\n",
       "      <td>Bars</td>\n",
       "    </tr>\n",
       "  </tbody>\n",
       "</table>\n",
       "</div>"
      ],
      "text/plain": [
       "  Product Name  Order Number Sales Channel  Quantity  \\\n",
       "0     PRODUCTA        141491     CHANNEL W         1   \n",
       "1     PRODUCTA        141491     CHANNEL W         1   \n",
       "2    PRODUCTAA        141492     CHANNEL A         1   \n",
       "3    PRODUCTAD        141492     CHANNEL A         1   \n",
       "4    PRODUCTAD        141492     CHANNEL A         1   \n",
       "\n",
       "   Unit Price Before Discount  Unit Price AFTER Discount  Extended Price  \\\n",
       "0                       570.0                     399.00          399.00   \n",
       "1                       570.0                     399.00          399.00   \n",
       "2                       195.0                     143.52          143.52   \n",
       "3                       642.0                     287.83          287.83   \n",
       "4                       642.0                     287.83          287.83   \n",
       "\n",
       "      Shipping Method Default Cost    CATEGORY  \n",
       "0  Flat Rate Shipping    173.00000        Bars  \n",
       "1  Flat Rate Shipping    173.00000        Bars  \n",
       "2    Warehouse Pickup     43.00000  End Tables  \n",
       "3    Warehouse Pickup    388.00000      Tables  \n",
       "4    Warehouse Pickup    196.00000        Bars  "
      ]
     },
     "execution_count": 12,
     "metadata": {},
     "output_type": "execute_result"
    }
   ],
   "source": [
    "df.head()"
   ]
  },
  {
   "cell_type": "code",
   "execution_count": 13,
   "metadata": {},
   "outputs": [
    {
     "data": {
      "text/plain": [
       "(3457, 10)"
      ]
     },
     "execution_count": 13,
     "metadata": {},
     "output_type": "execute_result"
    }
   ],
   "source": [
    "df.shape"
   ]
  },
  {
   "cell_type": "code",
   "execution_count": 14,
   "metadata": {},
   "outputs": [
    {
     "data": {
      "text/plain": [
       "Product Name                   object\n",
       "Order Number                    int64\n",
       "Sales Channel                  object\n",
       "Quantity                        int64\n",
       "Unit Price Before Discount    float64\n",
       "Unit Price AFTER Discount     float64\n",
       "Extended Price                float64\n",
       "Shipping Method                object\n",
       "Default Cost                   object\n",
       "CATEGORY                       object\n",
       "dtype: object"
      ]
     },
     "execution_count": 14,
     "metadata": {},
     "output_type": "execute_result"
    }
   ],
   "source": [
    "df.dtypes"
   ]
  },
  {
   "cell_type": "code",
   "execution_count": 15,
   "metadata": {},
   "outputs": [],
   "source": [
    "df['Default Cost']=df['Default Cost'].astype(float)"
   ]
  },
  {
   "cell_type": "code",
   "execution_count": 16,
   "metadata": {},
   "outputs": [
    {
     "data": {
      "text/plain": [
       "Product Name                    0\n",
       "Order Number                    0\n",
       "Sales Channel                   0\n",
       "Quantity                        0\n",
       "Unit Price Before Discount      0\n",
       "Unit Price AFTER Discount       0\n",
       "Extended Price                  0\n",
       "Shipping Method                 0\n",
       "Default Cost                    5\n",
       "CATEGORY                      146\n",
       "dtype: int64"
      ]
     },
     "execution_count": 16,
     "metadata": {},
     "output_type": "execute_result"
    }
   ],
   "source": [
    "df.isnull().sum()"
   ]
  },
  {
   "cell_type": "code",
   "execution_count": 17,
   "metadata": {},
   "outputs": [],
   "source": [
    "df['profit'] = df['Extended Price'] - df['Default Cost']*df.Quantity"
   ]
  },
  {
   "cell_type": "code",
   "execution_count": 18,
   "metadata": {},
   "outputs": [
    {
     "data": {
      "text/plain": [
       "CHANNEL W    1299\n",
       "CHANNEL A    1299\n",
       "CHANNEL F     612\n",
       "CHANNEL E     133\n",
       "CHANNEL Z     114\n",
       "Name: Sales Channel, dtype: int64"
      ]
     },
     "execution_count": 18,
     "metadata": {},
     "output_type": "execute_result"
    }
   ],
   "source": [
    "df['Sales Channel'].value_counts()"
   ]
  },
  {
   "cell_type": "code",
   "execution_count": 19,
   "metadata": {},
   "outputs": [
    {
     "data": {
      "text/plain": [
       "Flat Rate Shipping       1325\n",
       "Warehouse Pickup          813\n",
       "Delivery                  762\n",
       "CARRYOUT                  189\n",
       "Store Pickup              147\n",
       "UPS Ground                103\n",
       "Flat Rate White Glove     103\n",
       "UPS 3 Day Select           11\n",
       "FedEx GroundÂ®              2\n",
       "Extended Area TBD           1\n",
       "LTL White Glove             1\n",
       "Name: Shipping Method, dtype: int64"
      ]
     },
     "execution_count": 19,
     "metadata": {},
     "output_type": "execute_result"
    }
   ],
   "source": [
    "df['Shipping Method'].value_counts()"
   ]
  },
  {
   "cell_type": "code",
   "execution_count": 20,
   "metadata": {},
   "outputs": [
    {
     "data": {
      "text/plain": [
       "Vases                   1838\n",
       "Lounge Chairs            182\n",
       "Sofas                    129\n",
       "Chairs                   123\n",
       "End Tables               115\n",
       "Sectionals               110\n",
       "Beds                      98\n",
       "Bars                      94\n",
       "Ottomans                  79\n",
       "Coffee Tables             75\n",
       "Decorative Objects        60\n",
       "Swing Chairs              59\n",
       "Tables                    55\n",
       "Office | Task Chairs      37\n",
       "Filing | Shelving         33\n",
       "Night Stands              32\n",
       "Media | Shelving          30\n",
       "Outdoor Furniture         27\n",
       "Lighting                  24\n",
       "Mirrors                   20\n",
       "Console Tables            16\n",
       "Pillows                   16\n",
       "Rugs                      13\n",
       "Art                       13\n",
       "Dressers | Chests         11\n",
       "Benches                    7\n",
       "Sleepers                   6\n",
       "Sculptures                 4\n",
       "Buffets | Storage          4\n",
       "Conference Tables          1\n",
       "Name: CATEGORY, dtype: int64"
      ]
     },
     "execution_count": 20,
     "metadata": {},
     "output_type": "execute_result"
    }
   ],
   "source": [
    "df.CATEGORY.value_counts()"
   ]
  },
  {
   "cell_type": "code",
   "execution_count": 21,
   "metadata": {},
   "outputs": [
    {
     "data": {
      "text/plain": [
       "<matplotlib.axes._subplots.AxesSubplot at 0x1a10afa3780>"
      ]
     },
     "execution_count": 21,
     "metadata": {},
     "output_type": "execute_result"
    },
    {
     "data": {
      "image/png": "[encoded data removed]",
      "text/plain": [
       "<matplotlib.figure.Figure at 0x1a10b00bcc0>"
      ]
     },
     "metadata": {},
     "output_type": "display_data"
    }
   ],
   "source": [
    "df['Extended Price'].plot.hist()"
   ]
  },
  {
   "cell_type": "code",
   "execution_count": 22,
   "metadata": {},
   "outputs": [
    {
     "data": {
      "text/plain": [
       "<matplotlib.axes._subplots.AxesSubplot at 0x1a10af862e8>"
      ]
     },
     "execution_count": 22,
     "metadata": {},
     "output_type": "execute_result"
    },
    {
     "data": {
      "image/png": "[encoded data removed]",
      "text/plain": [
       "<matplotlib.figure.Figure at 0x1a10b3285f8>"
      ]
     },
     "metadata": {},
     "output_type": "display_data"
    }
   ],
   "source": [
    "df['Default Cost'].plot.hist()"
   ]
  },
  {
   "cell_type": "code",
   "execution_count": 23,
   "metadata": {},
   "outputs": [
    {
     "data": {
      "text/html": [
       "<div>\n",
       "<style scoped>\n",
       "    .dataframe tbody tr th:only-of-type {\n",
       "        vertical-align: middle;\n",
       "    }\n",
       "\n",
       "    .dataframe tbody tr th {\n",
       "        vertical-align: top;\n",
       "    }\n",
       "\n",
       "    .dataframe thead th {\n",
       "        text-align: right;\n",
       "    }\n",
       "</style>\n",
       "<table border=\"1\" class=\"dataframe\">\n",
       "  <thead>\n",
       "    <tr style=\"text-align: right;\">\n",
       "      <th></th>\n",
       "      <th>Product Name</th>\n",
       "      <th>Order Number</th>\n",
       "      <th>Sales Channel</th>\n",
       "      <th>Quantity</th>\n",
       "      <th>Unit Price Before Discount</th>\n",
       "      <th>Unit Price AFTER Discount</th>\n",
       "      <th>Extended Price</th>\n",
       "      <th>Shipping Method</th>\n",
       "      <th>Default Cost</th>\n",
       "      <th>CATEGORY</th>\n",
       "      <th>profit</th>\n",
       "    </tr>\n",
       "  </thead>\n",
       "  <tbody>\n",
       "    <tr>\n",
       "      <th>0</th>\n",
       "      <td>PRODUCTA</td>\n",
       "      <td>141491</td>\n",
       "      <td>CHANNEL W</td>\n",
       "      <td>1</td>\n",
       "      <td>570.0</td>\n",
       "      <td>399.00</td>\n",
       "      <td>399.00</td>\n",
       "      <td>Flat Rate Shipping</td>\n",
       "      <td>173.0</td>\n",
       "      <td>Bars</td>\n",
       "      <td>226.00</td>\n",
       "    </tr>\n",
       "    <tr>\n",
       "      <th>1</th>\n",
       "      <td>PRODUCTA</td>\n",
       "      <td>141491</td>\n",
       "      <td>CHANNEL W</td>\n",
       "      <td>1</td>\n",
       "      <td>570.0</td>\n",
       "      <td>399.00</td>\n",
       "      <td>399.00</td>\n",
       "      <td>Flat Rate Shipping</td>\n",
       "      <td>173.0</td>\n",
       "      <td>Bars</td>\n",
       "      <td>226.00</td>\n",
       "    </tr>\n",
       "    <tr>\n",
       "      <th>2</th>\n",
       "      <td>PRODUCTAA</td>\n",
       "      <td>141492</td>\n",
       "      <td>CHANNEL A</td>\n",
       "      <td>1</td>\n",
       "      <td>195.0</td>\n",
       "      <td>143.52</td>\n",
       "      <td>143.52</td>\n",
       "      <td>Warehouse Pickup</td>\n",
       "      <td>43.0</td>\n",
       "      <td>End Tables</td>\n",
       "      <td>100.52</td>\n",
       "    </tr>\n",
       "    <tr>\n",
       "      <th>3</th>\n",
       "      <td>PRODUCTAD</td>\n",
       "      <td>141492</td>\n",
       "      <td>CHANNEL A</td>\n",
       "      <td>1</td>\n",
       "      <td>642.0</td>\n",
       "      <td>287.83</td>\n",
       "      <td>287.83</td>\n",
       "      <td>Warehouse Pickup</td>\n",
       "      <td>388.0</td>\n",
       "      <td>Tables</td>\n",
       "      <td>-100.17</td>\n",
       "    </tr>\n",
       "    <tr>\n",
       "      <th>4</th>\n",
       "      <td>PRODUCTAD</td>\n",
       "      <td>141492</td>\n",
       "      <td>CHANNEL A</td>\n",
       "      <td>1</td>\n",
       "      <td>642.0</td>\n",
       "      <td>287.83</td>\n",
       "      <td>287.83</td>\n",
       "      <td>Warehouse Pickup</td>\n",
       "      <td>196.0</td>\n",
       "      <td>Bars</td>\n",
       "      <td>91.83</td>\n",
       "    </tr>\n",
       "  </tbody>\n",
       "</table>\n",
       "</div>"
      ],
      "text/plain": [
       "  Product Name  Order Number Sales Channel  Quantity  \\\n",
       "0     PRODUCTA        141491     CHANNEL W         1   \n",
       "1     PRODUCTA        141491     CHANNEL W         1   \n",
       "2    PRODUCTAA        141492     CHANNEL A         1   \n",
       "3    PRODUCTAD        141492     CHANNEL A         1   \n",
       "4    PRODUCTAD        141492     CHANNEL A         1   \n",
       "\n",
       "   Unit Price Before Discount  Unit Price AFTER Discount  Extended Price  \\\n",
       "0                       570.0                     399.00          399.00   \n",
       "1                       570.0                     399.00          399.00   \n",
       "2                       195.0                     143.52          143.52   \n",
       "3                       642.0                     287.83          287.83   \n",
       "4                       642.0                     287.83          287.83   \n",
       "\n",
       "      Shipping Method  Default Cost    CATEGORY  profit  \n",
       "0  Flat Rate Shipping         173.0        Bars  226.00  \n",
       "1  Flat Rate Shipping         173.0        Bars  226.00  \n",
       "2    Warehouse Pickup          43.0  End Tables  100.52  \n",
       "3    Warehouse Pickup         388.0      Tables -100.17  \n",
       "4    Warehouse Pickup         196.0        Bars   91.83  "
      ]
     },
     "execution_count": 23,
     "metadata": {},
     "output_type": "execute_result"
    }
   ],
   "source": [
    "df.head()"
   ]
  },
  {
   "cell_type": "code",
   "execution_count": 24,
   "metadata": {},
   "outputs": [],
   "source": [
    "revenue_channel = df.groupby('Sales Channel')['Extended Price'].sum()"
   ]
  },
  {
   "cell_type": "code",
   "execution_count": 25,
   "metadata": {},
   "outputs": [
    {
     "data": {
      "image/png": "[encoded data removed]",
      "text/plain": [
       "<matplotlib.figure.Figure at 0x1a10b4042b0>"
      ]
     },
     "metadata": {},
     "output_type": "display_data"
    }
   ],
   "source": [
    "ax = df.groupby('Sales Channel')['Extended Price'].sum().plot.bar(figsize\\\n",
    "            = (10,7),color = 'coral',fontsize = 13,alpha = 0.5)\n",
    "ax.set_title('Total revenue for each sales channel',fontsize = 16)\n",
    "ax.set_ylabel('Total revenue',fontsize = 13)\n",
    "totals = []\n",
    "for i in ax.patches:\n",
    "    totals.append(i.get_height())\n",
    "total = sum(totals)\n",
    "for i,value in enumerate(ax.patches):\n",
    "    ax.text(value.get_x()-0.03,value.get_height()+0.5,'$'+str(round(df.groupby('Sales Channel')['Extended Price'].sum()[i],2))\\\n",
    "           ,fontsize = 13)"
   ]
  },
  {
   "cell_type": "code",
   "execution_count": 26,
   "metadata": {},
   "outputs": [],
   "source": [
    "profit_channel = df.groupby('Sales Channel')['profit'].sum()"
   ]
  },
  {
   "cell_type": "code",
   "execution_count": 27,
   "metadata": {},
   "outputs": [
    {
     "data": {
      "image/png": "[encoded data removed]",
      "text/plain": [
       "<matplotlib.figure.Figure at 0x1a10b46e358>"
      ]
     },
     "metadata": {},
     "output_type": "display_data"
    }
   ],
   "source": [
    "ax = df.groupby('Sales Channel')['profit'].sum().plot.bar(figsize\\\n",
    "            = (10,7),color = 'indigo',fontsize = 13,alpha = 0.5)\n",
    "ax.set_title('Total profit for each sales channel',fontsize = 16)\n",
    "ax.set_ylabel('Total profit',fontsize = 13)\n",
    "totals = []\n",
    "for i in ax.patches:\n",
    "    totals.append(i.get_height())\n",
    "total = sum(totals)\n",
    "for i,value in enumerate(ax.patches):\n",
    "    ax.text(value.get_x()-0.03,value.get_height()+0.5,'$'+str(round(df.groupby('Sales Channel')['profit'].sum()[i],2))\\\n",
    "           ,fontsize = 13)"
   ]
  },
  {
   "cell_type": "code",
   "execution_count": 28,
   "metadata": {},
   "outputs": [
    {
     "ename": "KeyError",
     "evalue": "'Column not found: profit_pct'",
     "output_type": "error",
     "traceback": [
      "\u001b[1;31m---------------------------------------------------------------------------\u001b[0m",
      "\u001b[1;31mKeyError\u001b[0m                                  Traceback (most recent call last)",
      "\u001b[1;32m<ipython-input-28-213db4b4acdc>\u001b[0m in \u001b[0;36m<module>\u001b[1;34m()\u001b[0m\n\u001b[1;32m----> 1\u001b[1;33m \u001b[0max\u001b[0m \u001b[1;33m=\u001b[0m \u001b[0mdf\u001b[0m\u001b[1;33m.\u001b[0m\u001b[0mgroupby\u001b[0m\u001b[1;33m(\u001b[0m\u001b[1;34m'Sales Channel'\u001b[0m\u001b[1;33m)\u001b[0m\u001b[1;33m[\u001b[0m\u001b[1;34m'profit_pct'\u001b[0m\u001b[1;33m]\u001b[0m\u001b[1;33m.\u001b[0m\u001b[0mmean\u001b[0m\u001b[1;33m(\u001b[0m\u001b[1;33m)\u001b[0m\u001b[1;33m.\u001b[0m\u001b[0mplot\u001b[0m\u001b[1;33m.\u001b[0m\u001b[0mbar\u001b[0m\u001b[1;33m(\u001b[0m\u001b[0mfigsize\u001b[0m            \u001b[1;33m=\u001b[0m \u001b[1;33m(\u001b[0m\u001b[1;36m10\u001b[0m\u001b[1;33m,\u001b[0m\u001b[1;36m7\u001b[0m\u001b[1;33m)\u001b[0m\u001b[1;33m,\u001b[0m\u001b[0mcolor\u001b[0m \u001b[1;33m=\u001b[0m \u001b[1;34m'indigo'\u001b[0m\u001b[1;33m,\u001b[0m\u001b[0mfontsize\u001b[0m \u001b[1;33m=\u001b[0m \u001b[1;36m13\u001b[0m\u001b[1;33m,\u001b[0m\u001b[0malpha\u001b[0m \u001b[1;33m=\u001b[0m \u001b[1;36m0.5\u001b[0m\u001b[1;33m)\u001b[0m\u001b[1;33m\u001b[0m\u001b[0m\n\u001b[0m\u001b[0;32m      2\u001b[0m \u001b[0max\u001b[0m\u001b[1;33m.\u001b[0m\u001b[0mset_title\u001b[0m\u001b[1;33m(\u001b[0m\u001b[1;34m'Average profit percentage for each sales channel'\u001b[0m\u001b[1;33m,\u001b[0m\u001b[0mfontsize\u001b[0m \u001b[1;33m=\u001b[0m \u001b[1;36m16\u001b[0m\u001b[1;33m)\u001b[0m\u001b[1;33m\u001b[0m\u001b[0m\n\u001b[0;32m      3\u001b[0m \u001b[0max\u001b[0m\u001b[1;33m.\u001b[0m\u001b[0mset_ylabel\u001b[0m\u001b[1;33m(\u001b[0m\u001b[1;34m'Total profit'\u001b[0m\u001b[1;33m,\u001b[0m\u001b[0mfontsize\u001b[0m \u001b[1;33m=\u001b[0m \u001b[1;36m13\u001b[0m\u001b[1;33m)\u001b[0m\u001b[1;33m\u001b[0m\u001b[0m\n\u001b[0;32m      4\u001b[0m \u001b[0mtotals\u001b[0m \u001b[1;33m=\u001b[0m \u001b[1;33m[\u001b[0m\u001b[1;33m]\u001b[0m\u001b[1;33m\u001b[0m\u001b[0m\n\u001b[0;32m      5\u001b[0m \u001b[1;32mfor\u001b[0m \u001b[0mi\u001b[0m \u001b[1;32min\u001b[0m \u001b[0max\u001b[0m\u001b[1;33m.\u001b[0m\u001b[0mpatches\u001b[0m\u001b[1;33m:\u001b[0m\u001b[1;33m\u001b[0m\u001b[0m\n",
      "\u001b[1;32mD:\\Program Files (x86)\\Anaconda\\lib\\site-packages\\pandas\\core\\base.py\u001b[0m in \u001b[0;36m__getitem__\u001b[1;34m(self, key)\u001b[0m\n\u001b[0;32m    257\u001b[0m         \u001b[1;32melse\u001b[0m\u001b[1;33m:\u001b[0m\u001b[1;33m\u001b[0m\u001b[0m\n\u001b[0;32m    258\u001b[0m             \u001b[1;32mif\u001b[0m \u001b[0mkey\u001b[0m \u001b[1;32mnot\u001b[0m \u001b[1;32min\u001b[0m \u001b[0mself\u001b[0m\u001b[1;33m.\u001b[0m\u001b[0mobj\u001b[0m\u001b[1;33m:\u001b[0m\u001b[1;33m\u001b[0m\u001b[0m\n\u001b[1;32m--> 259\u001b[1;33m                 \u001b[1;32mraise\u001b[0m \u001b[0mKeyError\u001b[0m\u001b[1;33m(\u001b[0m\u001b[1;34m\"Column not found: {key}\"\u001b[0m\u001b[1;33m.\u001b[0m\u001b[0mformat\u001b[0m\u001b[1;33m(\u001b[0m\u001b[0mkey\u001b[0m\u001b[1;33m=\u001b[0m\u001b[0mkey\u001b[0m\u001b[1;33m)\u001b[0m\u001b[1;33m)\u001b[0m\u001b[1;33m\u001b[0m\u001b[0m\n\u001b[0m\u001b[0;32m    260\u001b[0m             \u001b[1;32mreturn\u001b[0m \u001b[0mself\u001b[0m\u001b[1;33m.\u001b[0m\u001b[0m_gotitem\u001b[0m\u001b[1;33m(\u001b[0m\u001b[0mkey\u001b[0m\u001b[1;33m,\u001b[0m \u001b[0mndim\u001b[0m\u001b[1;33m=\u001b[0m\u001b[1;36m1\u001b[0m\u001b[1;33m)\u001b[0m\u001b[1;33m\u001b[0m\u001b[0m\n\u001b[0;32m    261\u001b[0m \u001b[1;33m\u001b[0m\u001b[0m\n",
      "\u001b[1;31mKeyError\u001b[0m: 'Column not found: profit_pct'"
     ]
    }
   ],
   "source": [
    "ax = df.groupby('Sales Channel')['profit_pct'].mean().plot.bar(figsize\\\n",
    "            = (10,7),color = 'indigo',fontsize = 13,alpha = 0.5)\n",
    "ax.set_title('Average profit percentage for each sales channel',fontsize = 16)\n",
    "ax.set_ylabel('Total profit',fontsize = 13)\n",
    "totals = []\n",
    "for i in ax.patches:\n",
    "    totals.append(i.get_height())\n",
    "total = sum(totals)\n",
    "for i,value in enumerate(ax.patches):\n",
    "    ax.text(value.get_x()+0.03,value.get_height()+0.5,str(round(df.groupby('Sales Channel')['profit_pct'].mean()[i],2))\\\n",
    "           ,fontsize = 13)"
   ]
  },
  {
   "cell_type": "code",
   "execution_count": 29,
   "metadata": {},
   "outputs": [],
   "source": [
    "channel = pd.concat([revenue_channel,profit_channel],axis = 1)"
   ]
  },
  {
   "cell_type": "code",
   "execution_count": 30,
   "metadata": {},
   "outputs": [
    {
     "data": {
      "text/html": [
       "<div>\n",
       "<style scoped>\n",
       "    .dataframe tbody tr th:only-of-type {\n",
       "        vertical-align: middle;\n",
       "    }\n",
       "\n",
       "    .dataframe tbody tr th {\n",
       "        vertical-align: top;\n",
       "    }\n",
       "\n",
       "    .dataframe thead th {\n",
       "        text-align: right;\n",
       "    }\n",
       "</style>\n",
       "<table border=\"1\" class=\"dataframe\">\n",
       "  <thead>\n",
       "    <tr style=\"text-align: right;\">\n",
       "      <th></th>\n",
       "      <th>Extended Price</th>\n",
       "      <th>profit</th>\n",
       "    </tr>\n",
       "    <tr>\n",
       "      <th>Sales Channel</th>\n",
       "      <th></th>\n",
       "      <th></th>\n",
       "    </tr>\n",
       "  </thead>\n",
       "  <tbody>\n",
       "    <tr>\n",
       "      <th>CHANNEL A</th>\n",
       "      <td>735423.95</td>\n",
       "      <td>499625.62</td>\n",
       "    </tr>\n",
       "    <tr>\n",
       "      <th>CHANNEL E</th>\n",
       "      <td>101614.17</td>\n",
       "      <td>71489.32</td>\n",
       "    </tr>\n",
       "    <tr>\n",
       "      <th>CHANNEL F</th>\n",
       "      <td>406587.69</td>\n",
       "      <td>275749.67</td>\n",
       "    </tr>\n",
       "    <tr>\n",
       "      <th>CHANNEL W</th>\n",
       "      <td>739757.11</td>\n",
       "      <td>552004.78</td>\n",
       "    </tr>\n",
       "    <tr>\n",
       "      <th>CHANNEL Z</th>\n",
       "      <td>49017.69</td>\n",
       "      <td>34845.15</td>\n",
       "    </tr>\n",
       "  </tbody>\n",
       "</table>\n",
       "</div>"
      ],
      "text/plain": [
       "               Extended Price     profit\n",
       "Sales Channel                           \n",
       "CHANNEL A           735423.95  499625.62\n",
       "CHANNEL E           101614.17   71489.32\n",
       "CHANNEL F           406587.69  275749.67\n",
       "CHANNEL W           739757.11  552004.78\n",
       "CHANNEL Z            49017.69   34845.15"
      ]
     },
     "execution_count": 30,
     "metadata": {},
     "output_type": "execute_result"
    }
   ],
   "source": [
    "channel"
   ]
  },
  {
   "cell_type": "code",
   "execution_count": 31,
   "metadata": {},
   "outputs": [
    {
     "data": {
      "image/png": "[encoded data removed]",
      "text/plain": [
       "<matplotlib.figure.Figure at 0x1a10b8a7940>"
      ]
     },
     "metadata": {},
     "output_type": "display_data"
    }
   ],
   "source": [
    "# what is the profitbility by channel?\n",
    "fig, (ax1,ax2) = plt.subplots(2,1,figsize = (5,10))\n",
    "df.groupby('Sales Channel')['Extended Price'].sum().plot.bar(title = 'Total revenue for each sales channel',ax=ax1)\n",
    "df.groupby('Sales Channel')['profit'].sum().plot.bar(title = 'Total profit for each sales channel',ax=ax2)\n",
    "plt.tight_layout()"
   ]
  },
  {
   "cell_type": "code",
   "execution_count": 32,
   "metadata": {},
   "outputs": [
    {
     "data": {
      "text/html": [
       "<div>\n",
       "<style scoped>\n",
       "    .dataframe tbody tr th:only-of-type {\n",
       "        vertical-align: middle;\n",
       "    }\n",
       "\n",
       "    .dataframe tbody tr th {\n",
       "        vertical-align: top;\n",
       "    }\n",
       "\n",
       "    .dataframe thead th {\n",
       "        text-align: right;\n",
       "    }\n",
       "</style>\n",
       "<table border=\"1\" class=\"dataframe\">\n",
       "  <thead>\n",
       "    <tr style=\"text-align: right;\">\n",
       "      <th></th>\n",
       "      <th>Product Name</th>\n",
       "      <th>Order Number</th>\n",
       "      <th>Sales Channel</th>\n",
       "      <th>Quantity</th>\n",
       "      <th>Unit Price Before Discount</th>\n",
       "      <th>Unit Price AFTER Discount</th>\n",
       "      <th>Extended Price</th>\n",
       "      <th>Shipping Method</th>\n",
       "      <th>Default Cost</th>\n",
       "      <th>CATEGORY</th>\n",
       "      <th>profit</th>\n",
       "    </tr>\n",
       "  </thead>\n",
       "  <tbody>\n",
       "    <tr>\n",
       "      <th>0</th>\n",
       "      <td>PRODUCTA</td>\n",
       "      <td>141491</td>\n",
       "      <td>CHANNEL W</td>\n",
       "      <td>1</td>\n",
       "      <td>570.0</td>\n",
       "      <td>399.00</td>\n",
       "      <td>399.00</td>\n",
       "      <td>Flat Rate Shipping</td>\n",
       "      <td>173.0</td>\n",
       "      <td>Bars</td>\n",
       "      <td>226.00</td>\n",
       "    </tr>\n",
       "    <tr>\n",
       "      <th>1</th>\n",
       "      <td>PRODUCTA</td>\n",
       "      <td>141491</td>\n",
       "      <td>CHANNEL W</td>\n",
       "      <td>1</td>\n",
       "      <td>570.0</td>\n",
       "      <td>399.00</td>\n",
       "      <td>399.00</td>\n",
       "      <td>Flat Rate Shipping</td>\n",
       "      <td>173.0</td>\n",
       "      <td>Bars</td>\n",
       "      <td>226.00</td>\n",
       "    </tr>\n",
       "    <tr>\n",
       "      <th>2</th>\n",
       "      <td>PRODUCTAA</td>\n",
       "      <td>141492</td>\n",
       "      <td>CHANNEL A</td>\n",
       "      <td>1</td>\n",
       "      <td>195.0</td>\n",
       "      <td>143.52</td>\n",
       "      <td>143.52</td>\n",
       "      <td>Warehouse Pickup</td>\n",
       "      <td>43.0</td>\n",
       "      <td>End Tables</td>\n",
       "      <td>100.52</td>\n",
       "    </tr>\n",
       "    <tr>\n",
       "      <th>3</th>\n",
       "      <td>PRODUCTAD</td>\n",
       "      <td>141492</td>\n",
       "      <td>CHANNEL A</td>\n",
       "      <td>1</td>\n",
       "      <td>642.0</td>\n",
       "      <td>287.83</td>\n",
       "      <td>287.83</td>\n",
       "      <td>Warehouse Pickup</td>\n",
       "      <td>388.0</td>\n",
       "      <td>Tables</td>\n",
       "      <td>-100.17</td>\n",
       "    </tr>\n",
       "    <tr>\n",
       "      <th>4</th>\n",
       "      <td>PRODUCTAD</td>\n",
       "      <td>141492</td>\n",
       "      <td>CHANNEL A</td>\n",
       "      <td>1</td>\n",
       "      <td>642.0</td>\n",
       "      <td>287.83</td>\n",
       "      <td>287.83</td>\n",
       "      <td>Warehouse Pickup</td>\n",
       "      <td>196.0</td>\n",
       "      <td>Bars</td>\n",
       "      <td>91.83</td>\n",
       "    </tr>\n",
       "  </tbody>\n",
       "</table>\n",
       "</div>"
      ],
      "text/plain": [
       "  Product Name  Order Number Sales Channel  Quantity  \\\n",
       "0     PRODUCTA        141491     CHANNEL W         1   \n",
       "1     PRODUCTA        141491     CHANNEL W         1   \n",
       "2    PRODUCTAA        141492     CHANNEL A         1   \n",
       "3    PRODUCTAD        141492     CHANNEL A         1   \n",
       "4    PRODUCTAD        141492     CHANNEL A         1   \n",
       "\n",
       "   Unit Price Before Discount  Unit Price AFTER Discount  Extended Price  \\\n",
       "0                       570.0                     399.00          399.00   \n",
       "1                       570.0                     399.00          399.00   \n",
       "2                       195.0                     143.52          143.52   \n",
       "3                       642.0                     287.83          287.83   \n",
       "4                       642.0                     287.83          287.83   \n",
       "\n",
       "      Shipping Method  Default Cost    CATEGORY  profit  \n",
       "0  Flat Rate Shipping         173.0        Bars  226.00  \n",
       "1  Flat Rate Shipping         173.0        Bars  226.00  \n",
       "2    Warehouse Pickup          43.0  End Tables  100.52  \n",
       "3    Warehouse Pickup         388.0      Tables -100.17  \n",
       "4    Warehouse Pickup         196.0        Bars   91.83  "
      ]
     },
     "execution_count": 32,
     "metadata": {},
     "output_type": "execute_result"
    }
   ],
   "source": [
    "df.head()"
   ]
  },
  {
   "cell_type": "code",
   "execution_count": 33,
   "metadata": {},
   "outputs": [
    {
     "data": {
      "text/plain": [
       "Product Name\n",
       "PRODUCTAHC    337206.48\n",
       "PRODUCTASC    130096.26\n",
       "PRODUCTAY      92124.90\n",
       "PRODUCTCC      86676.75\n",
       "PRODUCTAM      48325.32\n",
       "Name: Extended Price, dtype: float64"
      ]
     },
     "execution_count": 33,
     "metadata": {},
     "output_type": "execute_result"
    }
   ],
   "source": [
    "# what is the best item we sell?\n",
    "df.groupby('Product Name')['Extended Price'].sum().sort_values(ascending = False).head()"
   ]
  },
  {
   "cell_type": "code",
   "execution_count": 34,
   "metadata": {},
   "outputs": [
    {
     "data": {
      "text/plain": [
       "Product Name\n",
       "PRODUCTAHC    261856.48\n",
       "PRODUCTASC     94186.26\n",
       "PRODUCTAY      68114.90\n",
       "PRODUCTCC      67056.75\n",
       "PRODUCTAM      35635.32\n",
       "Name: profit, dtype: float64"
      ]
     },
     "execution_count": 34,
     "metadata": {},
     "output_type": "execute_result"
    }
   ],
   "source": [
    "df.groupby('Product Name')['profit'].sum().sort_values(ascending = False).head()"
   ]
  },
  {
   "cell_type": "code",
   "execution_count": 35,
   "metadata": {},
   "outputs": [
    {
     "data": {
      "image/png": "[encoded data removed]",
      "text/plain": [
       "<matplotlib.figure.Figure at 0x1a10b8a7160>"
      ]
     },
     "metadata": {},
     "output_type": "display_data"
    }
   ],
   "source": [
    "ax = df.groupby('Product Name')['profit'].sum().sort_values(ascending = False).head().plot.bar(figsize\\\n",
    "            = (10,7),color = 'g',fontsize = 13,alpha = 0.3)\n",
    "ax.set_title('Top 5 products in profit',fontsize = 16)\n",
    "ax.set_ylabel('Total profit',fontsize = 13)\n",
    "totals = []\n",
    "for i in ax.patches:\n",
    "    totals.append(i.get_height())\n",
    "total = sum(totals)\n",
    "for i,value in enumerate(ax.patches):\n",
    "    ax.text(value.get_x()-0.03,value.get_height()+0.5,'$'+str(round(df.groupby('Product Name')['profit'].sum().sort_values(ascending = False).head()[i],2))\\\n",
    "           ,fontsize = 13)"
   ]
  },
  {
   "cell_type": "code",
   "execution_count": 36,
   "metadata": {},
   "outputs": [
    {
     "data": {
      "image/png": "[encoded data removed]",
      "text/plain": [
       "<matplotlib.figure.Figure at 0x1a10b4042b0>"
      ]
     },
     "metadata": {},
     "output_type": "display_data"
    }
   ],
   "source": [
    "ax = df.groupby('Product Name')['Extended Price'].sum().sort_values(ascending = False).head().plot.bar(figsize\\\n",
    "            = (10,7),color = 'r',fontsize = 13,alpha = 0.3)\n",
    "ax.set_title('Top 5 products in quantity',fontsize = 16)\n",
    "ax.set_ylabel('Total revenue',fontsize = 13)\n",
    "totals = []\n",
    "for i in ax.patches:\n",
    "    totals.append(i.get_height())\n",
    "total = sum(totals)\n",
    "for i,value in enumerate(ax.patches):\n",
    "    ax.text(value.get_x()-0.03,value.get_height()+0.5,'$'+str(round(df.groupby('Product Name')['Extended Price'].sum().sort_values(ascending = False).head()[i],2))\\\n",
    "           ,fontsize = 13)"
   ]
  },
  {
   "cell_type": "code",
   "execution_count": 37,
   "metadata": {},
   "outputs": [
    {
     "data": {
      "image/png": "[encoded data removed]",
      "text/plain": [
       "<matplotlib.figure.Figure at 0x1a10bac5d68>"
      ]
     },
     "metadata": {},
     "output_type": "display_data"
    }
   ],
   "source": [
    "ax = df.groupby('Product Name')['Quantity'].sum().sort_values(ascending = False).head().plot.bar(figsize\\\n",
    "            = (10,7),color = 'r',fontsize = 13,alpha = 0.3)\n",
    "ax.set_title('Top 5 high sales number products',fontsize = 16)\n",
    "ax.set_ylabel('Total sales number',fontsize = 13)\n",
    "totals = []\n",
    "for i in ax.patches:\n",
    "    totals.append(i.get_height())\n",
    "total = sum(totals)\n",
    "for i,value in enumerate(ax.patches):\n",
    "    ax.text(value.get_x()+0.07,value.get_height()+0.5,str(round(df.groupby('Product Name')['Quantity'].sum().sort_values(ascending = False).head()[i],2))\\\n",
    "           ,fontsize = 13)"
   ]
  },
  {
   "cell_type": "code",
   "execution_count": 38,
   "metadata": {},
   "outputs": [
    {
     "data": {
      "text/plain": [
       "Product Name\n",
       "PRODUCTAHC    1781\n",
       "PRODUCTASC     630\n",
       "PRODUCTAY      343\n",
       "PRODUCTAM      270\n",
       "PRODUCTDP      180\n",
       "Name: Quantity, dtype: int64"
      ]
     },
     "execution_count": 38,
     "metadata": {},
     "output_type": "execute_result"
    }
   ],
   "source": [
    "df.groupby('Product Name')['Quantity'].sum().sort_values(ascending = False).head()"
   ]
  },
  {
   "cell_type": "code",
   "execution_count": 39,
   "metadata": {},
   "outputs": [
    {
     "data": {
      "text/plain": [
       "CATEGORY\n",
       "Vases            602410.81\n",
       "Sectionals       156591.02\n",
       "Sofas            104694.47\n",
       "Beds              86032.34\n",
       "Lounge Chairs     80357.75\n",
       "Name: profit, dtype: float64"
      ]
     },
     "execution_count": 39,
     "metadata": {},
     "output_type": "execute_result"
    }
   ],
   "source": [
    "# what is the most profit category?\n",
    "df.groupby('CATEGORY').profit.sum().sort_values(ascending = False).head()"
   ]
  },
  {
   "cell_type": "code",
   "execution_count": 40,
   "metadata": {},
   "outputs": [
    {
     "data": {
      "image/png": "[encoded data removed]",
      "text/plain": [
       "<matplotlib.figure.Figure at 0x1a10afdf470>"
      ]
     },
     "metadata": {},
     "output_type": "display_data"
    }
   ],
   "source": [
    "ax = df.groupby('CATEGORY')['profit'].sum().sort_values(ascending = False).head().plot.bar(figsize\\\n",
    "            = (10,7),color = 'b',fontsize = 13,alpha = 0.3)\n",
    "ax.set_title('Top 5 high profit product category',fontsize = 16)\n",
    "ax.set_ylabel('Total profit',fontsize = 13)\n",
    "totals = []\n",
    "for i in ax.patches:\n",
    "    totals.append(i.get_height())\n",
    "total = sum(totals)\n",
    "for i,value in enumerate(ax.patches):\n",
    "    ax.text(value.get_x(),value.get_height()+0.5,'$'+str(round(df.groupby('CATEGORY')['profit'].sum().sort_values(ascending = False).head()[i],2))\\\n",
    "           ,fontsize = 13)"
   ]
  },
  {
   "cell_type": "code",
   "execution_count": 41,
   "metadata": {},
   "outputs": [
    {
     "data": {
      "text/plain": [
       "CATEGORY\n",
       "Vases            804376.81\n",
       "Sectionals       254681.02\n",
       "Sofas            148179.47\n",
       "Beds             122960.34\n",
       "Lounge Chairs    110689.65\n",
       "Name: Extended Price, dtype: float64"
      ]
     },
     "execution_count": 41,
     "metadata": {},
     "output_type": "execute_result"
    }
   ],
   "source": [
    "df.groupby('CATEGORY')['Extended Price'].sum().sort_values(ascending = False).head()"
   ]
  },
  {
   "cell_type": "code",
   "execution_count": 50,
   "metadata": {},
   "outputs": [],
   "source": [
    "# Does discount percentage brings more anenue or profit? if yes, which discount percentage is the best?\n",
    "df['discount'] =((df['Unit Price Before Discount'] - df['Unit Price AFTER Discount'])/df['Unit Price Before Discount'])*100"
   ]
  },
  {
   "cell_type": "code",
   "execution_count": 43,
   "metadata": {},
   "outputs": [
    {
     "data": {
      "text/plain": [
       "<matplotlib.axes._subplots.AxesSubplot at 0x1a10b8c0e80>"
      ]
     },
     "execution_count": 43,
     "metadata": {},
     "output_type": "execute_result"
    },
    {
     "data": {
      "image/png": "[encoded data removed]",
      "text/plain": [
       "<matplotlib.figure.Figure at 0x1a10ba839b0>"
      ]
     },
     "metadata": {},
     "output_type": "display_data"
    }
   ],
   "source": [
    "df['Unit Price Before Discount'].plot.hist()"
   ]
  },
  {
   "cell_type": "code",
   "execution_count": 44,
   "metadata": {},
   "outputs": [
    {
     "data": {
      "text/plain": [
       "<matplotlib.axes._subplots.AxesSubplot at 0x1a10ba994e0>"
      ]
     },
     "execution_count": 44,
     "metadata": {},
     "output_type": "execute_result"
    },
    {
     "data": {
      "image/png": "[encoded data removed]",
      "text/plain": [
       "<matplotlib.figure.Figure at 0x1a10b66fd68>"
      ]
     },
     "metadata": {},
     "output_type": "display_data"
    }
   ],
   "source": [
    "df['Unit Price AFTER Discount'].plot.hist()"
   ]
  },
  {
   "cell_type": "code",
   "execution_count": 51,
   "metadata": {},
   "outputs": [
    {
     "data": {
      "text/plain": [
       "<matplotlib.axes._subplots.AxesSubplot at 0x1a10bf1fcf8>"
      ]
     },
     "execution_count": 51,
     "metadata": {},
     "output_type": "execute_result"
    },
    {
     "data": {
      "image/png": "[encoded data removed]",
      "text/plain": [
       "<matplotlib.figure.Figure at 0x1a10bef8358>"
      ]
     },
     "metadata": {},
     "output_type": "display_data"
    }
   ],
   "source": [
    "df.discount.plot.hist()"
   ]
  },
  {
   "cell_type": "code",
   "execution_count": 54,
   "metadata": {},
   "outputs": [
    {
     "data": {
      "text/html": [
       "<div>\n",
       "<style scoped>\n",
       "    .dataframe tbody tr th:only-of-type {\n",
       "        vertical-align: middle;\n",
       "    }\n",
       "\n",
       "    .dataframe tbody tr th {\n",
       "        vertical-align: top;\n",
       "    }\n",
       "\n",
       "    .dataframe thead th {\n",
       "        text-align: right;\n",
       "    }\n",
       "</style>\n",
       "<table border=\"1\" class=\"dataframe\">\n",
       "  <thead>\n",
       "    <tr style=\"text-align: right;\">\n",
       "      <th></th>\n",
       "      <th>Product Name</th>\n",
       "      <th>Order Number</th>\n",
       "      <th>Sales Channel</th>\n",
       "      <th>Quantity</th>\n",
       "      <th>Unit Price Before Discount</th>\n",
       "      <th>Unit Price AFTER Discount</th>\n",
       "      <th>Extended Price</th>\n",
       "      <th>Shipping Method</th>\n",
       "      <th>Default Cost</th>\n",
       "      <th>CATEGORY</th>\n",
       "      <th>profit</th>\n",
       "      <th>discount</th>\n",
       "    </tr>\n",
       "  </thead>\n",
       "  <tbody>\n",
       "    <tr>\n",
       "      <th>7</th>\n",
       "      <td>PRODUCTAAD</td>\n",
       "      <td>141494</td>\n",
       "      <td>CHANNEL A</td>\n",
       "      <td>4</td>\n",
       "      <td>10.0</td>\n",
       "      <td>60.00</td>\n",
       "      <td>240.00</td>\n",
       "      <td>Warehouse Pickup</td>\n",
       "      <td>1.0</td>\n",
       "      <td>NaN</td>\n",
       "      <td>236.00</td>\n",
       "      <td>-500.00</td>\n",
       "    </tr>\n",
       "    <tr>\n",
       "      <th>83</th>\n",
       "      <td>PRODUCTAI</td>\n",
       "      <td>141512</td>\n",
       "      <td>CHANNEL A</td>\n",
       "      <td>1</td>\n",
       "      <td>10.0</td>\n",
       "      <td>409.50</td>\n",
       "      <td>409.50</td>\n",
       "      <td>Warehouse Pickup</td>\n",
       "      <td>1.0</td>\n",
       "      <td>NaN</td>\n",
       "      <td>408.50</td>\n",
       "      <td>-3995.00</td>\n",
       "    </tr>\n",
       "    <tr>\n",
       "      <th>96</th>\n",
       "      <td>PRODUCTAL</td>\n",
       "      <td>141518</td>\n",
       "      <td>CHANNEL A</td>\n",
       "      <td>1</td>\n",
       "      <td>100.0</td>\n",
       "      <td>120.00</td>\n",
       "      <td>120.00</td>\n",
       "      <td>Delivery</td>\n",
       "      <td>50.0</td>\n",
       "      <td>NaN</td>\n",
       "      <td>70.00</td>\n",
       "      <td>-20.00</td>\n",
       "    </tr>\n",
       "    <tr>\n",
       "      <th>134</th>\n",
       "      <td>PRODUCTAI</td>\n",
       "      <td>141529</td>\n",
       "      <td>CHANNEL A</td>\n",
       "      <td>1</td>\n",
       "      <td>10.0</td>\n",
       "      <td>721.50</td>\n",
       "      <td>721.50</td>\n",
       "      <td>Delivery</td>\n",
       "      <td>1.0</td>\n",
       "      <td>NaN</td>\n",
       "      <td>720.50</td>\n",
       "      <td>-7115.00</td>\n",
       "    </tr>\n",
       "    <tr>\n",
       "      <th>217</th>\n",
       "      <td>PRODUCTAI</td>\n",
       "      <td>141547</td>\n",
       "      <td>CHANNEL A</td>\n",
       "      <td>1</td>\n",
       "      <td>10.0</td>\n",
       "      <td>678.16</td>\n",
       "      <td>678.16</td>\n",
       "      <td>Delivery</td>\n",
       "      <td>1.0</td>\n",
       "      <td>NaN</td>\n",
       "      <td>677.16</td>\n",
       "      <td>-6681.60</td>\n",
       "    </tr>\n",
       "    <tr>\n",
       "      <th>218</th>\n",
       "      <td>PRODUCTAL</td>\n",
       "      <td>141547</td>\n",
       "      <td>CHANNEL A</td>\n",
       "      <td>1</td>\n",
       "      <td>100.0</td>\n",
       "      <td>204.50</td>\n",
       "      <td>204.50</td>\n",
       "      <td>CARRYOUT</td>\n",
       "      <td>50.0</td>\n",
       "      <td>NaN</td>\n",
       "      <td>154.50</td>\n",
       "      <td>-104.50</td>\n",
       "    </tr>\n",
       "    <tr>\n",
       "      <th>242</th>\n",
       "      <td>PRODUCTAL</td>\n",
       "      <td>141551</td>\n",
       "      <td>CHANNEL F</td>\n",
       "      <td>1</td>\n",
       "      <td>100.0</td>\n",
       "      <td>183.63</td>\n",
       "      <td>183.63</td>\n",
       "      <td>Delivery</td>\n",
       "      <td>50.0</td>\n",
       "      <td>NaN</td>\n",
       "      <td>133.63</td>\n",
       "      <td>-83.63</td>\n",
       "    </tr>\n",
       "    <tr>\n",
       "      <th>257</th>\n",
       "      <td>PRODUCTAL</td>\n",
       "      <td>141554</td>\n",
       "      <td>CHANNEL F</td>\n",
       "      <td>1</td>\n",
       "      <td>100.0</td>\n",
       "      <td>180.69</td>\n",
       "      <td>180.69</td>\n",
       "      <td>Warehouse Pickup</td>\n",
       "      <td>50.0</td>\n",
       "      <td>NaN</td>\n",
       "      <td>130.69</td>\n",
       "      <td>-80.69</td>\n",
       "    </tr>\n",
       "    <tr>\n",
       "      <th>268</th>\n",
       "      <td>PRODUCTAI</td>\n",
       "      <td>141555</td>\n",
       "      <td>CHANNEL A</td>\n",
       "      <td>1</td>\n",
       "      <td>10.0</td>\n",
       "      <td>99.36</td>\n",
       "      <td>99.36</td>\n",
       "      <td>Warehouse Pickup</td>\n",
       "      <td>1.0</td>\n",
       "      <td>NaN</td>\n",
       "      <td>98.36</td>\n",
       "      <td>-893.60</td>\n",
       "    </tr>\n",
       "    <tr>\n",
       "      <th>347</th>\n",
       "      <td>PRODUCTAL</td>\n",
       "      <td>141563</td>\n",
       "      <td>CHANNEL A</td>\n",
       "      <td>1</td>\n",
       "      <td>100.0</td>\n",
       "      <td>400.00</td>\n",
       "      <td>400.00</td>\n",
       "      <td>Delivery</td>\n",
       "      <td>50.0</td>\n",
       "      <td>NaN</td>\n",
       "      <td>350.00</td>\n",
       "      <td>-300.00</td>\n",
       "    </tr>\n",
       "    <tr>\n",
       "      <th>353</th>\n",
       "      <td>PRODUCTAL</td>\n",
       "      <td>141564</td>\n",
       "      <td>CHANNEL F</td>\n",
       "      <td>1</td>\n",
       "      <td>100.0</td>\n",
       "      <td>400.00</td>\n",
       "      <td>400.00</td>\n",
       "      <td>Delivery</td>\n",
       "      <td>50.0</td>\n",
       "      <td>NaN</td>\n",
       "      <td>350.00</td>\n",
       "      <td>-300.00</td>\n",
       "    </tr>\n",
       "    <tr>\n",
       "      <th>491</th>\n",
       "      <td>PRODUCTAL</td>\n",
       "      <td>141586</td>\n",
       "      <td>CHANNEL F</td>\n",
       "      <td>1</td>\n",
       "      <td>100.0</td>\n",
       "      <td>125.00</td>\n",
       "      <td>125.00</td>\n",
       "      <td>Delivery</td>\n",
       "      <td>50.0</td>\n",
       "      <td>NaN</td>\n",
       "      <td>75.00</td>\n",
       "      <td>-25.00</td>\n",
       "    </tr>\n",
       "    <tr>\n",
       "      <th>494</th>\n",
       "      <td>PRODUCTAL</td>\n",
       "      <td>141587</td>\n",
       "      <td>CHANNEL F</td>\n",
       "      <td>1</td>\n",
       "      <td>100.0</td>\n",
       "      <td>125.00</td>\n",
       "      <td>125.00</td>\n",
       "      <td>Delivery</td>\n",
       "      <td>50.0</td>\n",
       "      <td>NaN</td>\n",
       "      <td>75.00</td>\n",
       "      <td>-25.00</td>\n",
       "    </tr>\n",
       "    <tr>\n",
       "      <th>548</th>\n",
       "      <td>PRODUCTAI</td>\n",
       "      <td>141602</td>\n",
       "      <td>CHANNEL A</td>\n",
       "      <td>1</td>\n",
       "      <td>10.0</td>\n",
       "      <td>20.00</td>\n",
       "      <td>20.00</td>\n",
       "      <td>CARRYOUT</td>\n",
       "      <td>1.0</td>\n",
       "      <td>NaN</td>\n",
       "      <td>19.00</td>\n",
       "      <td>-100.00</td>\n",
       "    </tr>\n",
       "    <tr>\n",
       "      <th>563</th>\n",
       "      <td>PRODUCTAI</td>\n",
       "      <td>141610</td>\n",
       "      <td>CHANNEL A</td>\n",
       "      <td>1</td>\n",
       "      <td>10.0</td>\n",
       "      <td>386.40</td>\n",
       "      <td>386.40</td>\n",
       "      <td>Delivery</td>\n",
       "      <td>1.0</td>\n",
       "      <td>NaN</td>\n",
       "      <td>385.40</td>\n",
       "      <td>-3764.00</td>\n",
       "    </tr>\n",
       "    <tr>\n",
       "      <th>564</th>\n",
       "      <td>PRODUCTAI</td>\n",
       "      <td>141610</td>\n",
       "      <td>CHANNEL A</td>\n",
       "      <td>1</td>\n",
       "      <td>10.0</td>\n",
       "      <td>260.54</td>\n",
       "      <td>260.54</td>\n",
       "      <td>Delivery</td>\n",
       "      <td>1.0</td>\n",
       "      <td>NaN</td>\n",
       "      <td>259.54</td>\n",
       "      <td>-2505.40</td>\n",
       "    </tr>\n",
       "    <tr>\n",
       "      <th>565</th>\n",
       "      <td>PRODUCTAI</td>\n",
       "      <td>141610</td>\n",
       "      <td>CHANNEL A</td>\n",
       "      <td>1</td>\n",
       "      <td>10.0</td>\n",
       "      <td>260.54</td>\n",
       "      <td>260.54</td>\n",
       "      <td>Delivery</td>\n",
       "      <td>1.0</td>\n",
       "      <td>NaN</td>\n",
       "      <td>259.54</td>\n",
       "      <td>-2505.40</td>\n",
       "    </tr>\n",
       "    <tr>\n",
       "      <th>618</th>\n",
       "      <td>PRODUCTAI</td>\n",
       "      <td>141610</td>\n",
       "      <td>CHANNEL A</td>\n",
       "      <td>1</td>\n",
       "      <td>10.0</td>\n",
       "      <td>260.54</td>\n",
       "      <td>260.54</td>\n",
       "      <td>Delivery</td>\n",
       "      <td>1.0</td>\n",
       "      <td>NaN</td>\n",
       "      <td>259.54</td>\n",
       "      <td>-2505.40</td>\n",
       "    </tr>\n",
       "    <tr>\n",
       "      <th>665</th>\n",
       "      <td>PRODUCTAL</td>\n",
       "      <td>141628</td>\n",
       "      <td>CHANNEL F</td>\n",
       "      <td>1</td>\n",
       "      <td>100.0</td>\n",
       "      <td>120.00</td>\n",
       "      <td>120.00</td>\n",
       "      <td>Delivery</td>\n",
       "      <td>50.0</td>\n",
       "      <td>NaN</td>\n",
       "      <td>70.00</td>\n",
       "      <td>-20.00</td>\n",
       "    </tr>\n",
       "    <tr>\n",
       "      <th>693</th>\n",
       "      <td>PRODUCTAL</td>\n",
       "      <td>141634</td>\n",
       "      <td>CHANNEL F</td>\n",
       "      <td>1</td>\n",
       "      <td>100.0</td>\n",
       "      <td>120.00</td>\n",
       "      <td>120.00</td>\n",
       "      <td>Delivery</td>\n",
       "      <td>50.0</td>\n",
       "      <td>NaN</td>\n",
       "      <td>70.00</td>\n",
       "      <td>-20.00</td>\n",
       "    </tr>\n",
       "    <tr>\n",
       "      <th>723</th>\n",
       "      <td>PRODUCTAL</td>\n",
       "      <td>141644</td>\n",
       "      <td>CHANNEL F</td>\n",
       "      <td>1</td>\n",
       "      <td>100.0</td>\n",
       "      <td>120.00</td>\n",
       "      <td>120.00</td>\n",
       "      <td>Delivery</td>\n",
       "      <td>50.0</td>\n",
       "      <td>NaN</td>\n",
       "      <td>70.00</td>\n",
       "      <td>-20.00</td>\n",
       "    </tr>\n",
       "    <tr>\n",
       "      <th>725</th>\n",
       "      <td>PRODUCTAI</td>\n",
       "      <td>141644</td>\n",
       "      <td>CHANNEL F</td>\n",
       "      <td>1</td>\n",
       "      <td>10.0</td>\n",
       "      <td>59.62</td>\n",
       "      <td>59.62</td>\n",
       "      <td>CARRYOUT</td>\n",
       "      <td>1.0</td>\n",
       "      <td>NaN</td>\n",
       "      <td>58.62</td>\n",
       "      <td>-496.20</td>\n",
       "    </tr>\n",
       "    <tr>\n",
       "      <th>871</th>\n",
       "      <td>PRODUCTAL</td>\n",
       "      <td>141684</td>\n",
       "      <td>CHANNEL A</td>\n",
       "      <td>1</td>\n",
       "      <td>100.0</td>\n",
       "      <td>400.00</td>\n",
       "      <td>400.00</td>\n",
       "      <td>Flat Rate White Glove</td>\n",
       "      <td>50.0</td>\n",
       "      <td>NaN</td>\n",
       "      <td>350.00</td>\n",
       "      <td>-300.00</td>\n",
       "    </tr>\n",
       "    <tr>\n",
       "      <th>1116</th>\n",
       "      <td>PRODUCTAL</td>\n",
       "      <td>141738</td>\n",
       "      <td>CHANNEL F</td>\n",
       "      <td>1</td>\n",
       "      <td>100.0</td>\n",
       "      <td>211.23</td>\n",
       "      <td>211.23</td>\n",
       "      <td>Delivery</td>\n",
       "      <td>50.0</td>\n",
       "      <td>NaN</td>\n",
       "      <td>161.23</td>\n",
       "      <td>-111.23</td>\n",
       "    </tr>\n",
       "    <tr>\n",
       "      <th>1164</th>\n",
       "      <td>PRODUCTAI</td>\n",
       "      <td>141749</td>\n",
       "      <td>CHANNEL A</td>\n",
       "      <td>1</td>\n",
       "      <td>10.0</td>\n",
       "      <td>350.35</td>\n",
       "      <td>350.35</td>\n",
       "      <td>Delivery</td>\n",
       "      <td>1.0</td>\n",
       "      <td>NaN</td>\n",
       "      <td>349.35</td>\n",
       "      <td>-3403.50</td>\n",
       "    </tr>\n",
       "    <tr>\n",
       "      <th>1236</th>\n",
       "      <td>PRODUCTAL</td>\n",
       "      <td>141772</td>\n",
       "      <td>CHANNEL F</td>\n",
       "      <td>1</td>\n",
       "      <td>100.0</td>\n",
       "      <td>172.96</td>\n",
       "      <td>172.96</td>\n",
       "      <td>Warehouse Pickup</td>\n",
       "      <td>50.0</td>\n",
       "      <td>NaN</td>\n",
       "      <td>122.96</td>\n",
       "      <td>-72.96</td>\n",
       "    </tr>\n",
       "    <tr>\n",
       "      <th>1246</th>\n",
       "      <td>PRODUCTAL</td>\n",
       "      <td>141776</td>\n",
       "      <td>CHANNEL F</td>\n",
       "      <td>1</td>\n",
       "      <td>100.0</td>\n",
       "      <td>160.82</td>\n",
       "      <td>160.82</td>\n",
       "      <td>Delivery</td>\n",
       "      <td>50.0</td>\n",
       "      <td>NaN</td>\n",
       "      <td>110.82</td>\n",
       "      <td>-60.82</td>\n",
       "    </tr>\n",
       "    <tr>\n",
       "      <th>1283</th>\n",
       "      <td>PRODUCTAI</td>\n",
       "      <td>141782</td>\n",
       "      <td>CHANNEL A</td>\n",
       "      <td>1</td>\n",
       "      <td>10.0</td>\n",
       "      <td>100.00</td>\n",
       "      <td>100.00</td>\n",
       "      <td>CARRYOUT</td>\n",
       "      <td>1.0</td>\n",
       "      <td>NaN</td>\n",
       "      <td>99.00</td>\n",
       "      <td>-900.00</td>\n",
       "    </tr>\n",
       "    <tr>\n",
       "      <th>1392</th>\n",
       "      <td>PRODUCTAL</td>\n",
       "      <td>141802</td>\n",
       "      <td>CHANNEL F</td>\n",
       "      <td>1</td>\n",
       "      <td>100.0</td>\n",
       "      <td>120.00</td>\n",
       "      <td>120.00</td>\n",
       "      <td>Delivery</td>\n",
       "      <td>50.0</td>\n",
       "      <td>NaN</td>\n",
       "      <td>70.00</td>\n",
       "      <td>-20.00</td>\n",
       "    </tr>\n",
       "    <tr>\n",
       "      <th>1456</th>\n",
       "      <td>PRODUCTAL</td>\n",
       "      <td>141816</td>\n",
       "      <td>CHANNEL A</td>\n",
       "      <td>1</td>\n",
       "      <td>100.0</td>\n",
       "      <td>125.00</td>\n",
       "      <td>125.00</td>\n",
       "      <td>Warehouse Pickup</td>\n",
       "      <td>50.0</td>\n",
       "      <td>NaN</td>\n",
       "      <td>75.00</td>\n",
       "      <td>-25.00</td>\n",
       "    </tr>\n",
       "    <tr>\n",
       "      <th>...</th>\n",
       "      <td>...</td>\n",
       "      <td>...</td>\n",
       "      <td>...</td>\n",
       "      <td>...</td>\n",
       "      <td>...</td>\n",
       "      <td>...</td>\n",
       "      <td>...</td>\n",
       "      <td>...</td>\n",
       "      <td>...</td>\n",
       "      <td>...</td>\n",
       "      <td>...</td>\n",
       "      <td>...</td>\n",
       "    </tr>\n",
       "    <tr>\n",
       "      <th>1805</th>\n",
       "      <td>PRODUCTAI</td>\n",
       "      <td>141908</td>\n",
       "      <td>CHANNEL A</td>\n",
       "      <td>1</td>\n",
       "      <td>10.0</td>\n",
       "      <td>315.74</td>\n",
       "      <td>315.74</td>\n",
       "      <td>Warehouse Pickup</td>\n",
       "      <td>1.0</td>\n",
       "      <td>NaN</td>\n",
       "      <td>314.74</td>\n",
       "      <td>-3057.40</td>\n",
       "    </tr>\n",
       "    <tr>\n",
       "      <th>1813</th>\n",
       "      <td>PRODUCTAL</td>\n",
       "      <td>141913</td>\n",
       "      <td>CHANNEL A</td>\n",
       "      <td>1</td>\n",
       "      <td>100.0</td>\n",
       "      <td>155.00</td>\n",
       "      <td>155.00</td>\n",
       "      <td>Warehouse Pickup</td>\n",
       "      <td>50.0</td>\n",
       "      <td>NaN</td>\n",
       "      <td>105.00</td>\n",
       "      <td>-55.00</td>\n",
       "    </tr>\n",
       "    <tr>\n",
       "      <th>1818</th>\n",
       "      <td>PRODUCTAI</td>\n",
       "      <td>141917</td>\n",
       "      <td>CHANNEL F</td>\n",
       "      <td>1</td>\n",
       "      <td>10.0</td>\n",
       "      <td>97.36</td>\n",
       "      <td>97.36</td>\n",
       "      <td>CARRYOUT</td>\n",
       "      <td>1.0</td>\n",
       "      <td>NaN</td>\n",
       "      <td>96.36</td>\n",
       "      <td>-873.60</td>\n",
       "    </tr>\n",
       "    <tr>\n",
       "      <th>1839</th>\n",
       "      <td>PRODUCTAL</td>\n",
       "      <td>141923</td>\n",
       "      <td>CHANNEL A</td>\n",
       "      <td>1</td>\n",
       "      <td>100.0</td>\n",
       "      <td>400.00</td>\n",
       "      <td>400.00</td>\n",
       "      <td>Delivery</td>\n",
       "      <td>50.0</td>\n",
       "      <td>NaN</td>\n",
       "      <td>350.00</td>\n",
       "      <td>-300.00</td>\n",
       "    </tr>\n",
       "    <tr>\n",
       "      <th>1910</th>\n",
       "      <td>PRODUCTAL</td>\n",
       "      <td>141940</td>\n",
       "      <td>CHANNEL A</td>\n",
       "      <td>1</td>\n",
       "      <td>100.0</td>\n",
       "      <td>222.27</td>\n",
       "      <td>222.27</td>\n",
       "      <td>Delivery</td>\n",
       "      <td>50.0</td>\n",
       "      <td>NaN</td>\n",
       "      <td>172.27</td>\n",
       "      <td>-122.27</td>\n",
       "    </tr>\n",
       "    <tr>\n",
       "      <th>1947</th>\n",
       "      <td>PRODUCTAI</td>\n",
       "      <td>141949</td>\n",
       "      <td>CHANNEL A</td>\n",
       "      <td>1</td>\n",
       "      <td>10.0</td>\n",
       "      <td>165.60</td>\n",
       "      <td>165.60</td>\n",
       "      <td>CARRYOUT</td>\n",
       "      <td>1.0</td>\n",
       "      <td>NaN</td>\n",
       "      <td>164.60</td>\n",
       "      <td>-1556.00</td>\n",
       "    </tr>\n",
       "    <tr>\n",
       "      <th>1980</th>\n",
       "      <td>PRODUCTAL</td>\n",
       "      <td>141955</td>\n",
       "      <td>CHANNEL F</td>\n",
       "      <td>1</td>\n",
       "      <td>100.0</td>\n",
       "      <td>120.00</td>\n",
       "      <td>120.00</td>\n",
       "      <td>Delivery</td>\n",
       "      <td>50.0</td>\n",
       "      <td>NaN</td>\n",
       "      <td>70.00</td>\n",
       "      <td>-20.00</td>\n",
       "    </tr>\n",
       "    <tr>\n",
       "      <th>2006</th>\n",
       "      <td>PRODUCTAI</td>\n",
       "      <td>141960</td>\n",
       "      <td>CHANNEL A</td>\n",
       "      <td>1</td>\n",
       "      <td>10.0</td>\n",
       "      <td>52.58</td>\n",
       "      <td>52.58</td>\n",
       "      <td>Delivery</td>\n",
       "      <td>1.0</td>\n",
       "      <td>NaN</td>\n",
       "      <td>51.58</td>\n",
       "      <td>-425.80</td>\n",
       "    </tr>\n",
       "    <tr>\n",
       "      <th>2090</th>\n",
       "      <td>PRODUCTAI</td>\n",
       "      <td>141977</td>\n",
       "      <td>CHANNEL A</td>\n",
       "      <td>1</td>\n",
       "      <td>10.0</td>\n",
       "      <td>50.00</td>\n",
       "      <td>50.00</td>\n",
       "      <td>Delivery</td>\n",
       "      <td>1.0</td>\n",
       "      <td>NaN</td>\n",
       "      <td>49.00</td>\n",
       "      <td>-400.00</td>\n",
       "    </tr>\n",
       "    <tr>\n",
       "      <th>2119</th>\n",
       "      <td>PRODUCTAL</td>\n",
       "      <td>141983</td>\n",
       "      <td>CHANNEL F</td>\n",
       "      <td>1</td>\n",
       "      <td>100.0</td>\n",
       "      <td>260.91</td>\n",
       "      <td>260.91</td>\n",
       "      <td>Delivery</td>\n",
       "      <td>50.0</td>\n",
       "      <td>NaN</td>\n",
       "      <td>210.91</td>\n",
       "      <td>-160.91</td>\n",
       "    </tr>\n",
       "    <tr>\n",
       "      <th>2142</th>\n",
       "      <td>PRODUCTAL</td>\n",
       "      <td>141986</td>\n",
       "      <td>CHANNEL F</td>\n",
       "      <td>1</td>\n",
       "      <td>100.0</td>\n",
       "      <td>122.18</td>\n",
       "      <td>122.18</td>\n",
       "      <td>Delivery</td>\n",
       "      <td>50.0</td>\n",
       "      <td>NaN</td>\n",
       "      <td>72.18</td>\n",
       "      <td>-22.18</td>\n",
       "    </tr>\n",
       "    <tr>\n",
       "      <th>2151</th>\n",
       "      <td>PRODUCTAI</td>\n",
       "      <td>141991</td>\n",
       "      <td>CHANNEL A</td>\n",
       "      <td>2</td>\n",
       "      <td>10.0</td>\n",
       "      <td>276.00</td>\n",
       "      <td>552.00</td>\n",
       "      <td>Warehouse Pickup</td>\n",
       "      <td>1.0</td>\n",
       "      <td>NaN</td>\n",
       "      <td>550.00</td>\n",
       "      <td>-2660.00</td>\n",
       "    </tr>\n",
       "    <tr>\n",
       "      <th>2154</th>\n",
       "      <td>PRODUCTAI</td>\n",
       "      <td>141993</td>\n",
       "      <td>CHANNEL A</td>\n",
       "      <td>1</td>\n",
       "      <td>10.0</td>\n",
       "      <td>17.66</td>\n",
       "      <td>17.66</td>\n",
       "      <td>Warehouse Pickup</td>\n",
       "      <td>1.0</td>\n",
       "      <td>NaN</td>\n",
       "      <td>16.66</td>\n",
       "      <td>-76.60</td>\n",
       "    </tr>\n",
       "    <tr>\n",
       "      <th>2159</th>\n",
       "      <td>PRODUCTAL</td>\n",
       "      <td>141994</td>\n",
       "      <td>CHANNEL F</td>\n",
       "      <td>1</td>\n",
       "      <td>100.0</td>\n",
       "      <td>326.05</td>\n",
       "      <td>326.05</td>\n",
       "      <td>Delivery</td>\n",
       "      <td>50.0</td>\n",
       "      <td>NaN</td>\n",
       "      <td>276.05</td>\n",
       "      <td>-226.05</td>\n",
       "    </tr>\n",
       "    <tr>\n",
       "      <th>2209</th>\n",
       "      <td>PRODUCTAL</td>\n",
       "      <td>141999</td>\n",
       "      <td>CHANNEL F</td>\n",
       "      <td>1</td>\n",
       "      <td>100.0</td>\n",
       "      <td>199.36</td>\n",
       "      <td>199.36</td>\n",
       "      <td>Warehouse Pickup</td>\n",
       "      <td>50.0</td>\n",
       "      <td>NaN</td>\n",
       "      <td>149.36</td>\n",
       "      <td>-99.36</td>\n",
       "    </tr>\n",
       "    <tr>\n",
       "      <th>2266</th>\n",
       "      <td>PRODUCTAL</td>\n",
       "      <td>142011</td>\n",
       "      <td>CHANNEL F</td>\n",
       "      <td>1</td>\n",
       "      <td>100.0</td>\n",
       "      <td>154.56</td>\n",
       "      <td>154.56</td>\n",
       "      <td>Delivery</td>\n",
       "      <td>50.0</td>\n",
       "      <td>NaN</td>\n",
       "      <td>104.56</td>\n",
       "      <td>-54.56</td>\n",
       "    </tr>\n",
       "    <tr>\n",
       "      <th>2279</th>\n",
       "      <td>PRODUCTAL</td>\n",
       "      <td>142015</td>\n",
       "      <td>CHANNEL A</td>\n",
       "      <td>1</td>\n",
       "      <td>100.0</td>\n",
       "      <td>400.00</td>\n",
       "      <td>400.00</td>\n",
       "      <td>Delivery</td>\n",
       "      <td>50.0</td>\n",
       "      <td>NaN</td>\n",
       "      <td>350.00</td>\n",
       "      <td>-300.00</td>\n",
       "    </tr>\n",
       "    <tr>\n",
       "      <th>2295</th>\n",
       "      <td>PRODUCTAL</td>\n",
       "      <td>142016</td>\n",
       "      <td>CHANNEL F</td>\n",
       "      <td>1</td>\n",
       "      <td>100.0</td>\n",
       "      <td>122.18</td>\n",
       "      <td>122.18</td>\n",
       "      <td>Delivery</td>\n",
       "      <td>50.0</td>\n",
       "      <td>NaN</td>\n",
       "      <td>72.18</td>\n",
       "      <td>-22.18</td>\n",
       "    </tr>\n",
       "    <tr>\n",
       "      <th>2328</th>\n",
       "      <td>PRODUCTAL</td>\n",
       "      <td>142021</td>\n",
       "      <td>CHANNEL A</td>\n",
       "      <td>1</td>\n",
       "      <td>100.0</td>\n",
       "      <td>273.79</td>\n",
       "      <td>273.79</td>\n",
       "      <td>Delivery</td>\n",
       "      <td>50.0</td>\n",
       "      <td>NaN</td>\n",
       "      <td>223.79</td>\n",
       "      <td>-173.79</td>\n",
       "    </tr>\n",
       "    <tr>\n",
       "      <th>2351</th>\n",
       "      <td>PRODUCTAL</td>\n",
       "      <td>142023</td>\n",
       "      <td>CHANNEL F</td>\n",
       "      <td>1</td>\n",
       "      <td>100.0</td>\n",
       "      <td>400.00</td>\n",
       "      <td>400.00</td>\n",
       "      <td>Delivery</td>\n",
       "      <td>50.0</td>\n",
       "      <td>NaN</td>\n",
       "      <td>350.00</td>\n",
       "      <td>-300.00</td>\n",
       "    </tr>\n",
       "    <tr>\n",
       "      <th>2392</th>\n",
       "      <td>PRODUCTAL</td>\n",
       "      <td>142034</td>\n",
       "      <td>CHANNEL F</td>\n",
       "      <td>1</td>\n",
       "      <td>100.0</td>\n",
       "      <td>264.59</td>\n",
       "      <td>264.59</td>\n",
       "      <td>Delivery</td>\n",
       "      <td>50.0</td>\n",
       "      <td>NaN</td>\n",
       "      <td>214.59</td>\n",
       "      <td>-164.59</td>\n",
       "    </tr>\n",
       "    <tr>\n",
       "      <th>2612</th>\n",
       "      <td>PRODUCTAI</td>\n",
       "      <td>142072</td>\n",
       "      <td>CHANNEL A</td>\n",
       "      <td>1</td>\n",
       "      <td>10.0</td>\n",
       "      <td>208.00</td>\n",
       "      <td>208.00</td>\n",
       "      <td>CARRYOUT</td>\n",
       "      <td>1.0</td>\n",
       "      <td>NaN</td>\n",
       "      <td>207.00</td>\n",
       "      <td>-1980.00</td>\n",
       "    </tr>\n",
       "    <tr>\n",
       "      <th>2711</th>\n",
       "      <td>PRODUCTAI</td>\n",
       "      <td>142091</td>\n",
       "      <td>CHANNEL A</td>\n",
       "      <td>1</td>\n",
       "      <td>10.0</td>\n",
       "      <td>100.00</td>\n",
       "      <td>100.00</td>\n",
       "      <td>Warehouse Pickup</td>\n",
       "      <td>1.0</td>\n",
       "      <td>NaN</td>\n",
       "      <td>99.00</td>\n",
       "      <td>-900.00</td>\n",
       "    </tr>\n",
       "    <tr>\n",
       "      <th>2765</th>\n",
       "      <td>PRODUCTAL</td>\n",
       "      <td>142108</td>\n",
       "      <td>CHANNEL F</td>\n",
       "      <td>1</td>\n",
       "      <td>100.0</td>\n",
       "      <td>133.29</td>\n",
       "      <td>133.29</td>\n",
       "      <td>Delivery</td>\n",
       "      <td>50.0</td>\n",
       "      <td>NaN</td>\n",
       "      <td>83.29</td>\n",
       "      <td>-33.29</td>\n",
       "    </tr>\n",
       "    <tr>\n",
       "      <th>2776</th>\n",
       "      <td>PRODUCTAI</td>\n",
       "      <td>142115</td>\n",
       "      <td>CHANNEL A</td>\n",
       "      <td>1</td>\n",
       "      <td>10.0</td>\n",
       "      <td>20.00</td>\n",
       "      <td>20.00</td>\n",
       "      <td>Warehouse Pickup</td>\n",
       "      <td>1.0</td>\n",
       "      <td>NaN</td>\n",
       "      <td>19.00</td>\n",
       "      <td>-100.00</td>\n",
       "    </tr>\n",
       "    <tr>\n",
       "      <th>2779</th>\n",
       "      <td>PRODUCTAI</td>\n",
       "      <td>142116</td>\n",
       "      <td>CHANNEL A</td>\n",
       "      <td>1</td>\n",
       "      <td>10.0</td>\n",
       "      <td>87.30</td>\n",
       "      <td>87.30</td>\n",
       "      <td>CARRYOUT</td>\n",
       "      <td>1.0</td>\n",
       "      <td>NaN</td>\n",
       "      <td>86.30</td>\n",
       "      <td>-773.00</td>\n",
       "    </tr>\n",
       "    <tr>\n",
       "      <th>2796</th>\n",
       "      <td>PRODUCTAL</td>\n",
       "      <td>142119</td>\n",
       "      <td>CHANNEL F</td>\n",
       "      <td>1</td>\n",
       "      <td>100.0</td>\n",
       "      <td>120.00</td>\n",
       "      <td>120.00</td>\n",
       "      <td>Store Pickup</td>\n",
       "      <td>50.0</td>\n",
       "      <td>NaN</td>\n",
       "      <td>70.00</td>\n",
       "      <td>-20.00</td>\n",
       "    </tr>\n",
       "    <tr>\n",
       "      <th>2907</th>\n",
       "      <td>PRODUCTAI</td>\n",
       "      <td>142134</td>\n",
       "      <td>CHANNEL A</td>\n",
       "      <td>1</td>\n",
       "      <td>10.0</td>\n",
       "      <td>232.50</td>\n",
       "      <td>232.50</td>\n",
       "      <td>CARRYOUT</td>\n",
       "      <td>1.0</td>\n",
       "      <td>NaN</td>\n",
       "      <td>231.50</td>\n",
       "      <td>-2225.00</td>\n",
       "    </tr>\n",
       "    <tr>\n",
       "      <th>3290</th>\n",
       "      <td>PRODUCTAL</td>\n",
       "      <td>142208</td>\n",
       "      <td>CHANNEL F</td>\n",
       "      <td>1</td>\n",
       "      <td>100.0</td>\n",
       "      <td>272.25</td>\n",
       "      <td>272.25</td>\n",
       "      <td>Delivery</td>\n",
       "      <td>50.0</td>\n",
       "      <td>NaN</td>\n",
       "      <td>222.25</td>\n",
       "      <td>-172.25</td>\n",
       "    </tr>\n",
       "    <tr>\n",
       "      <th>3402</th>\n",
       "      <td>PRODUCTAAD</td>\n",
       "      <td>142237</td>\n",
       "      <td>CHANNEL A</td>\n",
       "      <td>1</td>\n",
       "      <td>10.0</td>\n",
       "      <td>672.00</td>\n",
       "      <td>672.00</td>\n",
       "      <td>Delivery</td>\n",
       "      <td>1.0</td>\n",
       "      <td>NaN</td>\n",
       "      <td>671.00</td>\n",
       "      <td>-6620.00</td>\n",
       "    </tr>\n",
       "  </tbody>\n",
       "</table>\n",
       "<p>64 rows × 12 columns</p>\n",
       "</div>"
      ],
      "text/plain": [
       "     Product Name  Order Number Sales Channel  Quantity  \\\n",
       "7      PRODUCTAAD        141494     CHANNEL A         4   \n",
       "83      PRODUCTAI        141512     CHANNEL A         1   \n",
       "96      PRODUCTAL        141518     CHANNEL A         1   \n",
       "134     PRODUCTAI        141529     CHANNEL A         1   \n",
       "217     PRODUCTAI        141547     CHANNEL A         1   \n",
       "218     PRODUCTAL        141547     CHANNEL A         1   \n",
       "242     PRODUCTAL        141551     CHANNEL F         1   \n",
       "257     PRODUCTAL        141554     CHANNEL F         1   \n",
       "268     PRODUCTAI        141555     CHANNEL A         1   \n",
       "347     PRODUCTAL        141563     CHANNEL A         1   \n",
       "353     PRODUCTAL        141564     CHANNEL F         1   \n",
       "491     PRODUCTAL        141586     CHANNEL F         1   \n",
       "494     PRODUCTAL        141587     CHANNEL F         1   \n",
       "548     PRODUCTAI        141602     CHANNEL A         1   \n",
       "563     PRODUCTAI        141610     CHANNEL A         1   \n",
       "564     PRODUCTAI        141610     CHANNEL A         1   \n",
       "565     PRODUCTAI        141610     CHANNEL A         1   \n",
       "618     PRODUCTAI        141610     CHANNEL A         1   \n",
       "665     PRODUCTAL        141628     CHANNEL F         1   \n",
       "693     PRODUCTAL        141634     CHANNEL F         1   \n",
       "723     PRODUCTAL        141644     CHANNEL F         1   \n",
       "725     PRODUCTAI        141644     CHANNEL F         1   \n",
       "871     PRODUCTAL        141684     CHANNEL A         1   \n",
       "1116    PRODUCTAL        141738     CHANNEL F         1   \n",
       "1164    PRODUCTAI        141749     CHANNEL A         1   \n",
       "1236    PRODUCTAL        141772     CHANNEL F         1   \n",
       "1246    PRODUCTAL        141776     CHANNEL F         1   \n",
       "1283    PRODUCTAI        141782     CHANNEL A         1   \n",
       "1392    PRODUCTAL        141802     CHANNEL F         1   \n",
       "1456    PRODUCTAL        141816     CHANNEL A         1   \n",
       "...           ...           ...           ...       ...   \n",
       "1805    PRODUCTAI        141908     CHANNEL A         1   \n",
       "1813    PRODUCTAL        141913     CHANNEL A         1   \n",
       "1818    PRODUCTAI        141917     CHANNEL F         1   \n",
       "1839    PRODUCTAL        141923     CHANNEL A         1   \n",
       "1910    PRODUCTAL        141940     CHANNEL A         1   \n",
       "1947    PRODUCTAI        141949     CHANNEL A         1   \n",
       "1980    PRODUCTAL        141955     CHANNEL F         1   \n",
       "2006    PRODUCTAI        141960     CHANNEL A         1   \n",
       "2090    PRODUCTAI        141977     CHANNEL A         1   \n",
       "2119    PRODUCTAL        141983     CHANNEL F         1   \n",
       "2142    PRODUCTAL        141986     CHANNEL F         1   \n",
       "2151    PRODUCTAI        141991     CHANNEL A         2   \n",
       "2154    PRODUCTAI        141993     CHANNEL A         1   \n",
       "2159    PRODUCTAL        141994     CHANNEL F         1   \n",
       "2209    PRODUCTAL        141999     CHANNEL F         1   \n",
       "2266    PRODUCTAL        142011     CHANNEL F         1   \n",
       "2279    PRODUCTAL        142015     CHANNEL A         1   \n",
       "2295    PRODUCTAL        142016     CHANNEL F         1   \n",
       "2328    PRODUCTAL        142021     CHANNEL A         1   \n",
       "2351    PRODUCTAL        142023     CHANNEL F         1   \n",
       "2392    PRODUCTAL        142034     CHANNEL F         1   \n",
       "2612    PRODUCTAI        142072     CHANNEL A         1   \n",
       "2711    PRODUCTAI        142091     CHANNEL A         1   \n",
       "2765    PRODUCTAL        142108     CHANNEL F         1   \n",
       "2776    PRODUCTAI        142115     CHANNEL A         1   \n",
       "2779    PRODUCTAI        142116     CHANNEL A         1   \n",
       "2796    PRODUCTAL        142119     CHANNEL F         1   \n",
       "2907    PRODUCTAI        142134     CHANNEL A         1   \n",
       "3290    PRODUCTAL        142208     CHANNEL F         1   \n",
       "3402   PRODUCTAAD        142237     CHANNEL A         1   \n",
       "\n",
       "      Unit Price Before Discount  Unit Price AFTER Discount  Extended Price  \\\n",
       "7                           10.0                      60.00          240.00   \n",
       "83                          10.0                     409.50          409.50   \n",
       "96                         100.0                     120.00          120.00   \n",
       "134                         10.0                     721.50          721.50   \n",
       "217                         10.0                     678.16          678.16   \n",
       "218                        100.0                     204.50          204.50   \n",
       "242                        100.0                     183.63          183.63   \n",
       "257                        100.0                     180.69          180.69   \n",
       "268                         10.0                      99.36           99.36   \n",
       "347                        100.0                     400.00          400.00   \n",
       "353                        100.0                     400.00          400.00   \n",
       "491                        100.0                     125.00          125.00   \n",
       "494                        100.0                     125.00          125.00   \n",
       "548                         10.0                      20.00           20.00   \n",
       "563                         10.0                     386.40          386.40   \n",
       "564                         10.0                     260.54          260.54   \n",
       "565                         10.0                     260.54          260.54   \n",
       "618                         10.0                     260.54          260.54   \n",
       "665                        100.0                     120.00          120.00   \n",
       "693                        100.0                     120.00          120.00   \n",
       "723                        100.0                     120.00          120.00   \n",
       "725                         10.0                      59.62           59.62   \n",
       "871                        100.0                     400.00          400.00   \n",
       "1116                       100.0                     211.23          211.23   \n",
       "1164                        10.0                     350.35          350.35   \n",
       "1236                       100.0                     172.96          172.96   \n",
       "1246                       100.0                     160.82          160.82   \n",
       "1283                        10.0                     100.00          100.00   \n",
       "1392                       100.0                     120.00          120.00   \n",
       "1456                       100.0                     125.00          125.00   \n",
       "...                          ...                        ...             ...   \n",
       "1805                        10.0                     315.74          315.74   \n",
       "1813                       100.0                     155.00          155.00   \n",
       "1818                        10.0                      97.36           97.36   \n",
       "1839                       100.0                     400.00          400.00   \n",
       "1910                       100.0                     222.27          222.27   \n",
       "1947                        10.0                     165.60          165.60   \n",
       "1980                       100.0                     120.00          120.00   \n",
       "2006                        10.0                      52.58           52.58   \n",
       "2090                        10.0                      50.00           50.00   \n",
       "2119                       100.0                     260.91          260.91   \n",
       "2142                       100.0                     122.18          122.18   \n",
       "2151                        10.0                     276.00          552.00   \n",
       "2154                        10.0                      17.66           17.66   \n",
       "2159                       100.0                     326.05          326.05   \n",
       "2209                       100.0                     199.36          199.36   \n",
       "2266                       100.0                     154.56          154.56   \n",
       "2279                       100.0                     400.00          400.00   \n",
       "2295                       100.0                     122.18          122.18   \n",
       "2328                       100.0                     273.79          273.79   \n",
       "2351                       100.0                     400.00          400.00   \n",
       "2392                       100.0                     264.59          264.59   \n",
       "2612                        10.0                     208.00          208.00   \n",
       "2711                        10.0                     100.00          100.00   \n",
       "2765                       100.0                     133.29          133.29   \n",
       "2776                        10.0                      20.00           20.00   \n",
       "2779                        10.0                      87.30           87.30   \n",
       "2796                       100.0                     120.00          120.00   \n",
       "2907                        10.0                     232.50          232.50   \n",
       "3290                       100.0                     272.25          272.25   \n",
       "3402                        10.0                     672.00          672.00   \n",
       "\n",
       "            Shipping Method  Default Cost CATEGORY  profit  discount  \n",
       "7          Warehouse Pickup           1.0      NaN  236.00   -500.00  \n",
       "83         Warehouse Pickup           1.0      NaN  408.50  -3995.00  \n",
       "96                 Delivery          50.0      NaN   70.00    -20.00  \n",
       "134                Delivery           1.0      NaN  720.50  -7115.00  \n",
       "217                Delivery           1.0      NaN  677.16  -6681.60  \n",
       "218                CARRYOUT          50.0      NaN  154.50   -104.50  \n",
       "242                Delivery          50.0      NaN  133.63    -83.63  \n",
       "257        Warehouse Pickup          50.0      NaN  130.69    -80.69  \n",
       "268        Warehouse Pickup           1.0      NaN   98.36   -893.60  \n",
       "347                Delivery          50.0      NaN  350.00   -300.00  \n",
       "353                Delivery          50.0      NaN  350.00   -300.00  \n",
       "491                Delivery          50.0      NaN   75.00    -25.00  \n",
       "494                Delivery          50.0      NaN   75.00    -25.00  \n",
       "548                CARRYOUT           1.0      NaN   19.00   -100.00  \n",
       "563                Delivery           1.0      NaN  385.40  -3764.00  \n",
       "564                Delivery           1.0      NaN  259.54  -2505.40  \n",
       "565                Delivery           1.0      NaN  259.54  -2505.40  \n",
       "618                Delivery           1.0      NaN  259.54  -2505.40  \n",
       "665                Delivery          50.0      NaN   70.00    -20.00  \n",
       "693                Delivery          50.0      NaN   70.00    -20.00  \n",
       "723                Delivery          50.0      NaN   70.00    -20.00  \n",
       "725                CARRYOUT           1.0      NaN   58.62   -496.20  \n",
       "871   Flat Rate White Glove          50.0      NaN  350.00   -300.00  \n",
       "1116               Delivery          50.0      NaN  161.23   -111.23  \n",
       "1164               Delivery           1.0      NaN  349.35  -3403.50  \n",
       "1236       Warehouse Pickup          50.0      NaN  122.96    -72.96  \n",
       "1246               Delivery          50.0      NaN  110.82    -60.82  \n",
       "1283               CARRYOUT           1.0      NaN   99.00   -900.00  \n",
       "1392               Delivery          50.0      NaN   70.00    -20.00  \n",
       "1456       Warehouse Pickup          50.0      NaN   75.00    -25.00  \n",
       "...                     ...           ...      ...     ...       ...  \n",
       "1805       Warehouse Pickup           1.0      NaN  314.74  -3057.40  \n",
       "1813       Warehouse Pickup          50.0      NaN  105.00    -55.00  \n",
       "1818               CARRYOUT           1.0      NaN   96.36   -873.60  \n",
       "1839               Delivery          50.0      NaN  350.00   -300.00  \n",
       "1910               Delivery          50.0      NaN  172.27   -122.27  \n",
       "1947               CARRYOUT           1.0      NaN  164.60  -1556.00  \n",
       "1980               Delivery          50.0      NaN   70.00    -20.00  \n",
       "2006               Delivery           1.0      NaN   51.58   -425.80  \n",
       "2090               Delivery           1.0      NaN   49.00   -400.00  \n",
       "2119               Delivery          50.0      NaN  210.91   -160.91  \n",
       "2142               Delivery          50.0      NaN   72.18    -22.18  \n",
       "2151       Warehouse Pickup           1.0      NaN  550.00  -2660.00  \n",
       "2154       Warehouse Pickup           1.0      NaN   16.66    -76.60  \n",
       "2159               Delivery          50.0      NaN  276.05   -226.05  \n",
       "2209       Warehouse Pickup          50.0      NaN  149.36    -99.36  \n",
       "2266               Delivery          50.0      NaN  104.56    -54.56  \n",
       "2279               Delivery          50.0      NaN  350.00   -300.00  \n",
       "2295               Delivery          50.0      NaN   72.18    -22.18  \n",
       "2328               Delivery          50.0      NaN  223.79   -173.79  \n",
       "2351               Delivery          50.0      NaN  350.00   -300.00  \n",
       "2392               Delivery          50.0      NaN  214.59   -164.59  \n",
       "2612               CARRYOUT           1.0      NaN  207.00  -1980.00  \n",
       "2711       Warehouse Pickup           1.0      NaN   99.00   -900.00  \n",
       "2765               Delivery          50.0      NaN   83.29    -33.29  \n",
       "2776       Warehouse Pickup           1.0      NaN   19.00   -100.00  \n",
       "2779               CARRYOUT           1.0      NaN   86.30   -773.00  \n",
       "2796           Store Pickup          50.0      NaN   70.00    -20.00  \n",
       "2907               CARRYOUT           1.0      NaN  231.50  -2225.00  \n",
       "3290               Delivery          50.0      NaN  222.25   -172.25  \n",
       "3402               Delivery           1.0      NaN  671.00  -6620.00  \n",
       "\n",
       "[64 rows x 12 columns]"
      ]
     },
     "execution_count": 54,
     "metadata": {},
     "output_type": "execute_result"
    }
   ],
   "source": [
    "df[df.discount <0]"
   ]
  },
  {
   "cell_type": "code",
   "execution_count": 55,
   "metadata": {},
   "outputs": [],
   "source": [
    "df.loc[df.discount<0,'discount'] = np.nan"
   ]
  },
  {
   "cell_type": "code",
   "execution_count": 59,
   "metadata": {},
   "outputs": [
    {
     "data": {
      "text/html": [
       "<div>\n",
       "<style scoped>\n",
       "    .dataframe tbody tr th:only-of-type {\n",
       "        vertical-align: middle;\n",
       "    }\n",
       "\n",
       "    .dataframe tbody tr th {\n",
       "        vertical-align: top;\n",
       "    }\n",
       "\n",
       "    .dataframe thead th {\n",
       "        text-align: right;\n",
       "    }\n",
       "</style>\n",
       "<table border=\"1\" class=\"dataframe\">\n",
       "  <thead>\n",
       "    <tr style=\"text-align: right;\">\n",
       "      <th></th>\n",
       "      <th>discount</th>\n",
       "      <th>profit</th>\n",
       "    </tr>\n",
       "  </thead>\n",
       "  <tbody>\n",
       "    <tr>\n",
       "      <th>discount</th>\n",
       "      <td>1.00000</td>\n",
       "      <td>-0.11505</td>\n",
       "    </tr>\n",
       "    <tr>\n",
       "      <th>profit</th>\n",
       "      <td>-0.11505</td>\n",
       "      <td>1.00000</td>\n",
       "    </tr>\n",
       "  </tbody>\n",
       "</table>\n",
       "</div>"
      ],
      "text/plain": [
       "          discount   profit\n",
       "discount   1.00000 -0.11505\n",
       "profit    -0.11505  1.00000"
      ]
     },
     "execution_count": 59,
     "metadata": {},
     "output_type": "execute_result"
    }
   ],
   "source": [
    "df[['discount','profit']].corr()"
   ]
  },
  {
   "cell_type": "code",
   "execution_count": 56,
   "metadata": {},
   "outputs": [
    {
     "data": {
      "text/plain": [
       "<matplotlib.collections.PathCollection at 0x1a10b676978>"
      ]
     },
     "execution_count": 56,
     "metadata": {},
     "output_type": "execute_result"
    },
    {
     "data": {
      "image/png": "[encoded data removed]",
      "text/plain": [
       "<matplotlib.figure.Figure at 0x1a10bef82e8>"
      ]
     },
     "metadata": {},
     "output_type": "display_data"
    }
   ],
   "source": [
    "fig = plt.figure(figsize = (10,10))\n",
    "plt.scatter(df.discount,df.profit)"
   ]
  },
  {
   "cell_type": "code",
   "execution_count": 57,
   "metadata": {},
   "outputs": [
    {
     "data": {
      "text/plain": [
       "<matplotlib.axes._subplots.AxesSubplot at 0x1a10be926a0>"
      ]
     },
     "execution_count": 57,
     "metadata": {},
     "output_type": "execute_result"
    },
    {
     "data": {
      "image/png": "[encoded data removed]",
      "text/plain": [
       "<matplotlib.figure.Figure at 0x1a10b06d470>"
      ]
     },
     "metadata": {},
     "output_type": "display_data"
    }
   ],
   "source": [
    "df.discount.plot.hist()"
   ]
  },
  {
   "cell_type": "code",
   "execution_count": 58,
   "metadata": {},
   "outputs": [
    {
     "data": {
      "text/plain": [
       "<matplotlib.axes._subplots.AxesSubplot at 0x1a10afd51d0>"
      ]
     },
     "execution_count": 58,
     "metadata": {},
     "output_type": "execute_result"
    },
    {
     "data": {
      "image/png": "[encoded data removed]",
      "text/plain": [
       "<matplotlib.figure.Figure at 0x1a10b064ef0>"
      ]
     },
     "metadata": {},
     "output_type": "display_data"
    }
   ],
   "source": [
    "df.profit.plot.hist()"
   ]
  },
  {
   "cell_type": "code",
   "execution_count": null,
   "metadata": {},
   "outputs": [],
   "source": []
  },
  {
   "cell_type": "code",
   "execution_count": 65,
   "metadata": {},
   "outputs": [],
   "source": [
    "df.loc[df['Extended Price'] == 0,'Extended Price'] = np.nan"
   ]
  },
  {
   "cell_type": "code",
   "execution_count": 69,
   "metadata": {},
   "outputs": [
    {
     "data": {
      "text/plain": [
       "Product Name                  0\n",
       "Order Number                  0\n",
       "Sales Channel                 0\n",
       "Quantity                      0\n",
       "Unit Price Before Discount    0\n",
       "Unit Price AFTER Discount     0\n",
       "Extended Price                0\n",
       "Shipping Method               0\n",
       "Default Cost                  0\n",
       "CATEGORY                      0\n",
       "profit                        0\n",
       "discount                      0\n",
       "profit_pct                    0\n",
       "dtype: int64"
      ]
     },
     "execution_count": 69,
     "metadata": {},
     "output_type": "execute_result"
    }
   ],
   "source": []
  },
  {
   "cell_type": "code",
   "execution_count": 62,
   "metadata": {},
   "outputs": [],
   "source": [
    "df.loc[df['Default Cost'] == 0,'Default Cost'] = np.nan"
   ]
  },
  {
   "cell_type": "code",
   "execution_count": 63,
   "metadata": {},
   "outputs": [],
   "source": [
    "# does whether have discount play a role in profit?\n",
    "df['profit_pct'] = (df.profit/df['Default Cost']*df.Quantity)*100"
   ]
  },
  {
   "cell_type": "code",
   "execution_count": 79,
   "metadata": {},
   "outputs": [],
   "source": [
    "df['profit_pct_log10'] = df.profit_pct.apply(np.log10)"
   ]
  },
  {
   "cell_type": "code",
   "execution_count": 66,
   "metadata": {},
   "outputs": [
    {
     "data": {
      "text/plain": [
       "<matplotlib.axes._subplots.AxesSubplot at 0x1a10af72908>"
      ]
     },
     "execution_count": 66,
     "metadata": {},
     "output_type": "execute_result"
    },
    {
     "data": {
      "image/png": "[encoded data removed]",
      "text/plain": [
       "<matplotlib.figure.Figure at 0x1a10cfedcf8>"
      ]
     },
     "metadata": {},
     "output_type": "display_data"
    }
   ],
   "source": [
    "df['profit_pct'].plot.hist()"
   ]
  },
  {
   "cell_type": "code",
   "execution_count": 80,
   "metadata": {},
   "outputs": [
    {
     "data": {
      "text/plain": [
       "<matplotlib.axes._subplots.AxesSubplot at 0x1a10d36a0b8>"
      ]
     },
     "execution_count": 80,
     "metadata": {},
     "output_type": "execute_result"
    },
    {
     "data": {
      "image/png": "[encoded data removed]",
      "text/plain": [
       "<matplotlib.figure.Figure at 0x1a10d374278>"
      ]
     },
     "metadata": {},
     "output_type": "display_data"
    }
   ],
   "source": [
    "df.profit_pct_log10.plot.hist()"
   ]
  },
  {
   "cell_type": "code",
   "execution_count": 59,
   "metadata": {},
   "outputs": [
    {
     "data": {
      "text/plain": [
       "<matplotlib.axes._subplots.AxesSubplot at 0x19f13325278>"
      ]
     },
     "execution_count": 59,
     "metadata": {},
     "output_type": "execute_result"
    },
    {
     "data": {
      "image/png": "[encoded data removed]",
      "text/plain": [
       "<matplotlib.figure.Figure at 0x19f13306198>"
      ]
     },
     "metadata": {},
     "output_type": "display_data"
    }
   ],
   "source": [
    "df.discount.plot.hist()"
   ]
  },
  {
   "cell_type": "code",
   "execution_count": 76,
   "metadata": {},
   "outputs": [],
   "source": [
    "dfless5000 = df[df.profit_pct<5000]"
   ]
  },
  {
   "cell_type": "code",
   "execution_count": 83,
   "metadata": {},
   "outputs": [
    {
     "data": {
      "text/plain": [
       "<matplotlib.collections.PathCollection at 0x1a10d69a710>"
      ]
     },
     "execution_count": 83,
     "metadata": {},
     "output_type": "execute_result"
    },
    {
     "data": {
      "image/png": "[encoded data removed]",
      "text/plain": [
       "<matplotlib.figure.Figure at 0x1a10d3ef4a8>"
      ]
     },
     "metadata": {},
     "output_type": "display_data"
    }
   ],
   "source": [
    "fig = plt.figure(figsize = (10,10))\n",
    "plt.scatter(df.discount,df.profit_pct_log10)"
   ]
  },
  {
   "cell_type": "code",
   "execution_count": 50,
   "metadata": {},
   "outputs": [],
   "source": []
  },
  {
   "cell_type": "code",
   "execution_count": 86,
   "metadata": {},
   "outputs": [
    {
     "data": {
      "text/plain": [
       "<seaborn.axisgrid.FacetGrid at 0x1a10bb56c88>"
      ]
     },
     "execution_count": 86,
     "metadata": {},
     "output_type": "execute_result"
    },
    {
     "data": {
      "image/png": "[encoded data removed]",
      "text/plain": [
       "<matplotlib.figure.Figure at 0x1a10bb56e10>"
      ]
     },
     "metadata": {},
     "output_type": "display_data"
    }
   ],
   "source": [
    "g = sns.lmplot(data = df,x = 'discount',y = 'profit_pct',size = 7)\n",
    "g.set_xlabels('discount percentage',fontsize=13)\n",
    "g.set_ylabels('profit percentage',fontsize = 13)"
   ]
  },
  {
   "cell_type": "code",
   "execution_count": 85,
   "metadata": {},
   "outputs": [
    {
     "data": {
      "text/plain": [
       "<seaborn.axisgrid.FacetGrid at 0x1a10bd55978>"
      ]
     },
     "execution_count": 85,
     "metadata": {},
     "output_type": "execute_result"
    },
    {
     "data": {
      "image/png": "[encoded data removed]",
      "text/plain": [
       "<matplotlib.figure.Figure at 0x1a10bd553c8>"
      ]
     },
     "metadata": {},
     "output_type": "display_data"
    }
   ],
   "source": [
    "g = sns.lmplot(data = df,x = 'discount',y = 'profit_pct_log10',size = 7)\n",
    "g.set_xlabels('discount percentage',fontsize=13)\n",
    "g.set_ylabels('log 10 of profit percentage',fontsize = 13)"
   ]
  },
  {
   "cell_type": "code",
   "execution_count": null,
   "metadata": {},
   "outputs": [],
   "source": []
  },
  {
   "cell_type": "code",
   "execution_count": 62,
   "metadata": {},
   "outputs": [
    {
     "data": {
      "text/html": [
       "<div>\n",
       "<style scoped>\n",
       "    .dataframe tbody tr th:only-of-type {\n",
       "        vertical-align: middle;\n",
       "    }\n",
       "\n",
       "    .dataframe tbody tr th {\n",
       "        vertical-align: top;\n",
       "    }\n",
       "\n",
       "    .dataframe thead th {\n",
       "        text-align: right;\n",
       "    }\n",
       "</style>\n",
       "<table border=\"1\" class=\"dataframe\">\n",
       "  <thead>\n",
       "    <tr style=\"text-align: right;\">\n",
       "      <th></th>\n",
       "      <th>Product Name</th>\n",
       "      <th>Order Number</th>\n",
       "      <th>Sales Channel</th>\n",
       "      <th>Quantity</th>\n",
       "      <th>Unit Price Before Discount</th>\n",
       "      <th>Unit Price AFTER Discount</th>\n",
       "      <th>Extended Price</th>\n",
       "      <th>Shipping Method</th>\n",
       "      <th>Default Cost</th>\n",
       "      <th>CATEGORY</th>\n",
       "      <th>profit</th>\n",
       "      <th>discount</th>\n",
       "      <th>profit_pct</th>\n",
       "    </tr>\n",
       "  </thead>\n",
       "  <tbody>\n",
       "    <tr>\n",
       "      <th>134</th>\n",
       "      <td>PRODUCTAI</td>\n",
       "      <td>141529</td>\n",
       "      <td>CHANNEL A</td>\n",
       "      <td>1</td>\n",
       "      <td>10.0</td>\n",
       "      <td>721.50</td>\n",
       "      <td>721.50</td>\n",
       "      <td>Delivery</td>\n",
       "      <td>1.0</td>\n",
       "      <td>NaN</td>\n",
       "      <td>720.50</td>\n",
       "      <td>7215.0</td>\n",
       "      <td>72050.0</td>\n",
       "    </tr>\n",
       "    <tr>\n",
       "      <th>217</th>\n",
       "      <td>PRODUCTAI</td>\n",
       "      <td>141547</td>\n",
       "      <td>CHANNEL A</td>\n",
       "      <td>1</td>\n",
       "      <td>10.0</td>\n",
       "      <td>678.16</td>\n",
       "      <td>678.16</td>\n",
       "      <td>Delivery</td>\n",
       "      <td>1.0</td>\n",
       "      <td>NaN</td>\n",
       "      <td>677.16</td>\n",
       "      <td>6781.6</td>\n",
       "      <td>67716.0</td>\n",
       "    </tr>\n",
       "    <tr>\n",
       "      <th>3402</th>\n",
       "      <td>PRODUCTAAD</td>\n",
       "      <td>142237</td>\n",
       "      <td>CHANNEL A</td>\n",
       "      <td>1</td>\n",
       "      <td>10.0</td>\n",
       "      <td>672.00</td>\n",
       "      <td>672.00</td>\n",
       "      <td>Delivery</td>\n",
       "      <td>1.0</td>\n",
       "      <td>NaN</td>\n",
       "      <td>671.00</td>\n",
       "      <td>6720.0</td>\n",
       "      <td>67100.0</td>\n",
       "    </tr>\n",
       "  </tbody>\n",
       "</table>\n",
       "</div>"
      ],
      "text/plain": [
       "     Product Name  Order Number Sales Channel  Quantity  \\\n",
       "134     PRODUCTAI        141529     CHANNEL A         1   \n",
       "217     PRODUCTAI        141547     CHANNEL A         1   \n",
       "3402   PRODUCTAAD        142237     CHANNEL A         1   \n",
       "\n",
       "      Unit Price Before Discount  Unit Price AFTER Discount  Extended Price  \\\n",
       "134                         10.0                     721.50          721.50   \n",
       "217                         10.0                     678.16          678.16   \n",
       "3402                        10.0                     672.00          672.00   \n",
       "\n",
       "     Shipping Method  Default Cost CATEGORY  profit  discount  profit_pct  \n",
       "134         Delivery           1.0      NaN  720.50    7215.0     72050.0  \n",
       "217         Delivery           1.0      NaN  677.16    6781.6     67716.0  \n",
       "3402        Delivery           1.0      NaN  671.00    6720.0     67100.0  "
      ]
     },
     "execution_count": 62,
     "metadata": {},
     "output_type": "execute_result"
    }
   ],
   "source": [
    "df[df.discount>6000]"
   ]
  },
  {
   "cell_type": "code",
   "execution_count": 243,
   "metadata": {},
   "outputs": [
    {
     "data": {
      "text/plain": [
       "matplotlib.axes._subplots.AxesSubplot"
      ]
     },
     "execution_count": 243,
     "metadata": {},
     "output_type": "execute_result"
    }
   ],
   "source": [
    "type(ax)"
   ]
  },
  {
   "cell_type": "code",
   "execution_count": 63,
   "metadata": {},
   "outputs": [
    {
     "data": {
      "text/plain": [
       "0.9959164264577005"
      ]
     },
     "execution_count": 63,
     "metadata": {},
     "output_type": "execute_result"
    }
   ],
   "source": [
    "df[['discount','profit_pct']].corr().iloc[0,1]"
   ]
  },
  {
   "cell_type": "code",
   "execution_count": 54,
   "metadata": {},
   "outputs": [
    {
     "data": {
      "text/plain": [
       "(3457, 13)"
      ]
     },
     "execution_count": 54,
     "metadata": {},
     "output_type": "execute_result"
    }
   ],
   "source": [
    "# does whether have discount play a role in profit?\n",
    "df.shape"
   ]
  },
  {
   "cell_type": "code",
   "execution_count": 55,
   "metadata": {},
   "outputs": [
    {
     "data": {
      "text/plain": [
       "145"
      ]
     },
     "execution_count": 55,
     "metadata": {},
     "output_type": "execute_result"
    }
   ],
   "source": [
    "(df.discount == 100).sum()"
   ]
  },
  {
   "cell_type": "code",
   "execution_count": 56,
   "metadata": {},
   "outputs": [],
   "source": [
    "df['havedis'] = df.discount.apply(lambda x: 0 if x == 100 else 1)"
   ]
  },
  {
   "cell_type": "code",
   "execution_count": 57,
   "metadata": {},
   "outputs": [
    {
     "data": {
      "text/html": [
       "<div>\n",
       "<style scoped>\n",
       "    .dataframe tbody tr th:only-of-type {\n",
       "        vertical-align: middle;\n",
       "    }\n",
       "\n",
       "    .dataframe tbody tr th {\n",
       "        vertical-align: top;\n",
       "    }\n",
       "\n",
       "    .dataframe thead th {\n",
       "        text-align: right;\n",
       "    }\n",
       "</style>\n",
       "<table border=\"1\" class=\"dataframe\">\n",
       "  <thead>\n",
       "    <tr style=\"text-align: right;\">\n",
       "      <th></th>\n",
       "      <th>Product Name</th>\n",
       "      <th>Order Number</th>\n",
       "      <th>Sales Channel</th>\n",
       "      <th>Quantity</th>\n",
       "      <th>Unit Price Before Discount</th>\n",
       "      <th>Unit Price AFTER Discount</th>\n",
       "      <th>Extended Price</th>\n",
       "      <th>Shipping Method</th>\n",
       "      <th>Default Cost</th>\n",
       "      <th>CATEGORY</th>\n",
       "      <th>profit</th>\n",
       "      <th>discount</th>\n",
       "      <th>profit_pct</th>\n",
       "      <th>havedis</th>\n",
       "    </tr>\n",
       "  </thead>\n",
       "  <tbody>\n",
       "    <tr>\n",
       "      <th>0</th>\n",
       "      <td>PRODUCTA</td>\n",
       "      <td>141491</td>\n",
       "      <td>CHANNEL W</td>\n",
       "      <td>1</td>\n",
       "      <td>570.0</td>\n",
       "      <td>399.00</td>\n",
       "      <td>399.00</td>\n",
       "      <td>Flat Rate Shipping</td>\n",
       "      <td>173.0</td>\n",
       "      <td>Bars</td>\n",
       "      <td>226.00</td>\n",
       "      <td>70.000000</td>\n",
       "      <td>56.641604</td>\n",
       "      <td>1</td>\n",
       "    </tr>\n",
       "    <tr>\n",
       "      <th>1</th>\n",
       "      <td>PRODUCTA</td>\n",
       "      <td>141491</td>\n",
       "      <td>CHANNEL W</td>\n",
       "      <td>1</td>\n",
       "      <td>570.0</td>\n",
       "      <td>399.00</td>\n",
       "      <td>399.00</td>\n",
       "      <td>Flat Rate Shipping</td>\n",
       "      <td>173.0</td>\n",
       "      <td>Bars</td>\n",
       "      <td>226.00</td>\n",
       "      <td>70.000000</td>\n",
       "      <td>56.641604</td>\n",
       "      <td>1</td>\n",
       "    </tr>\n",
       "    <tr>\n",
       "      <th>2</th>\n",
       "      <td>PRODUCTAA</td>\n",
       "      <td>141492</td>\n",
       "      <td>CHANNEL A</td>\n",
       "      <td>1</td>\n",
       "      <td>195.0</td>\n",
       "      <td>143.52</td>\n",
       "      <td>143.52</td>\n",
       "      <td>Warehouse Pickup</td>\n",
       "      <td>43.0</td>\n",
       "      <td>End Tables</td>\n",
       "      <td>100.52</td>\n",
       "      <td>73.600000</td>\n",
       "      <td>70.039019</td>\n",
       "      <td>1</td>\n",
       "    </tr>\n",
       "    <tr>\n",
       "      <th>3</th>\n",
       "      <td>PRODUCTAD</td>\n",
       "      <td>141492</td>\n",
       "      <td>CHANNEL A</td>\n",
       "      <td>1</td>\n",
       "      <td>642.0</td>\n",
       "      <td>287.83</td>\n",
       "      <td>287.83</td>\n",
       "      <td>Warehouse Pickup</td>\n",
       "      <td>388.0</td>\n",
       "      <td>Tables</td>\n",
       "      <td>-100.17</td>\n",
       "      <td>44.833333</td>\n",
       "      <td>NaN</td>\n",
       "      <td>1</td>\n",
       "    </tr>\n",
       "    <tr>\n",
       "      <th>4</th>\n",
       "      <td>PRODUCTAD</td>\n",
       "      <td>141492</td>\n",
       "      <td>CHANNEL A</td>\n",
       "      <td>1</td>\n",
       "      <td>642.0</td>\n",
       "      <td>287.83</td>\n",
       "      <td>287.83</td>\n",
       "      <td>Warehouse Pickup</td>\n",
       "      <td>196.0</td>\n",
       "      <td>Bars</td>\n",
       "      <td>91.83</td>\n",
       "      <td>44.833333</td>\n",
       "      <td>31.904249</td>\n",
       "      <td>1</td>\n",
       "    </tr>\n",
       "  </tbody>\n",
       "</table>\n",
       "</div>"
      ],
      "text/plain": [
       "  Product Name  Order Number Sales Channel  Quantity  \\\n",
       "0     PRODUCTA        141491     CHANNEL W         1   \n",
       "1     PRODUCTA        141491     CHANNEL W         1   \n",
       "2    PRODUCTAA        141492     CHANNEL A         1   \n",
       "3    PRODUCTAD        141492     CHANNEL A         1   \n",
       "4    PRODUCTAD        141492     CHANNEL A         1   \n",
       "\n",
       "   Unit Price Before Discount  Unit Price AFTER Discount  Extended Price  \\\n",
       "0                       570.0                     399.00          399.00   \n",
       "1                       570.0                     399.00          399.00   \n",
       "2                       195.0                     143.52          143.52   \n",
       "3                       642.0                     287.83          287.83   \n",
       "4                       642.0                     287.83          287.83   \n",
       "\n",
       "      Shipping Method  Default Cost    CATEGORY  profit   discount  \\\n",
       "0  Flat Rate Shipping         173.0        Bars  226.00  70.000000   \n",
       "1  Flat Rate Shipping         173.0        Bars  226.00  70.000000   \n",
       "2    Warehouse Pickup          43.0  End Tables  100.52  73.600000   \n",
       "3    Warehouse Pickup         388.0      Tables -100.17  44.833333   \n",
       "4    Warehouse Pickup         196.0        Bars   91.83  44.833333   \n",
       "\n",
       "   profit_pct  havedis  \n",
       "0   56.641604        1  \n",
       "1   56.641604        1  \n",
       "2   70.039019        1  \n",
       "3         NaN        1  \n",
       "4   31.904249        1  "
      ]
     },
     "execution_count": 57,
     "metadata": {},
     "output_type": "execute_result"
    }
   ],
   "source": [
    "df.head()"
   ]
  },
  {
   "cell_type": "code",
   "execution_count": 58,
   "metadata": {},
   "outputs": [
    {
     "data": {
      "text/plain": [
       "<matplotlib.axes._subplots.AxesSubplot at 0x231eb5f09b0>"
      ]
     },
     "execution_count": 58,
     "metadata": {},
     "output_type": "execute_result"
    },
    {
     "data": {
      "image/png": "[encoded data removed]",
      "text/plain": [
       "<matplotlib.figure.Figure at 0x231ebc6fc50>"
      ]
     },
     "metadata": {},
     "output_type": "display_data"
    }
   ],
   "source": [
    "df[df.havedis == 1].profit_pct.plot.hist()"
   ]
  },
  {
   "cell_type": "code",
   "execution_count": 59,
   "metadata": {},
   "outputs": [
    {
     "data": {
      "text/plain": [
       "<matplotlib.axes._subplots.AxesSubplot at 0x231eb9489b0>"
      ]
     },
     "execution_count": 59,
     "metadata": {},
     "output_type": "execute_result"
    },
    {
     "data": {
      "image/png": "[encoded data removed]",
      "text/plain": [
       "<matplotlib.figure.Figure at 0x231eb8c8358>"
      ]
     },
     "metadata": {},
     "output_type": "display_data"
    }
   ],
   "source": [
    "df[df.havedis == 0].profit_pct.plot.hist()"
   ]
  },
  {
   "cell_type": "code",
   "execution_count": 60,
   "metadata": {},
   "outputs": [
    {
     "name": "stdout",
     "output_type": "stream",
     "text": [
      "71.56137297839383\n",
      "74.17962612868108\n"
     ]
    }
   ],
   "source": [
    "print(df[df.havedis == 1].profit_pct.mean())\n",
    "print(df[df.havedis == 0].profit_pct.mean())"
   ]
  },
  {
   "cell_type": "code",
   "execution_count": 71,
   "metadata": {},
   "outputs": [
    {
     "data": {
      "text/plain": [
       "<matplotlib.axes._subplots.AxesSubplot at 0x231ed55f3c8>"
      ]
     },
     "execution_count": 71,
     "metadata": {},
     "output_type": "execute_result"
    },
    {
     "data": {
      "image/png": "[encoded data removed]",
      "text/plain": [
       "<matplotlib.figure.Figure at 0x231ecda47b8>"
      ]
     },
     "metadata": {},
     "output_type": "display_data"
    }
   ],
   "source": [
    "# Does different price group have different discount effects?\n",
    "df['Unit Price AFTER Discount'].plot.hist(bins = 6)"
   ]
  },
  {
   "cell_type": "code",
   "execution_count": 70,
   "metadata": {},
   "outputs": [
    {
     "data": {
      "text/plain": [
       "<matplotlib.axes._subplots.AxesSubplot at 0x231ece2c2b0>"
      ]
     },
     "execution_count": 70,
     "metadata": {},
     "output_type": "execute_result"
    },
    {
     "data": {
      "image/png": "[encoded data removed]",
      "text/plain": [
       "<matplotlib.figure.Figure at 0x231ed2cd1d0>"
      ]
     },
     "metadata": {},
     "output_type": "display_data"
    }
   ],
   "source": [
    "df['Unit Price Before Discount'].plot.hist()"
   ]
  },
  {
   "cell_type": "code",
   "execution_count": 87,
   "metadata": {},
   "outputs": [],
   "source": [
    "df['price_cluster']=pd.qcut(df['Unit Price AFTER Discount'],5,labels = ['low','2_cluster','median','4_cluster','high'])"
   ]
  },
  {
   "cell_type": "code",
   "execution_count": 79,
   "metadata": {
    "scrolled": true
   },
   "outputs": [
    {
     "data": {
      "text/html": [
       "<div>\n",
       "<style scoped>\n",
       "    .dataframe tbody tr th:only-of-type {\n",
       "        vertical-align: middle;\n",
       "    }\n",
       "\n",
       "    .dataframe tbody tr th {\n",
       "        vertical-align: top;\n",
       "    }\n",
       "\n",
       "    .dataframe thead th {\n",
       "        text-align: right;\n",
       "    }\n",
       "</style>\n",
       "<table border=\"1\" class=\"dataframe\">\n",
       "  <thead>\n",
       "    <tr style=\"text-align: right;\">\n",
       "      <th></th>\n",
       "      <th>Product Name</th>\n",
       "      <th>Order Number</th>\n",
       "      <th>Sales Channel</th>\n",
       "      <th>Quantity</th>\n",
       "      <th>Unit Price Before Discount</th>\n",
       "      <th>Unit Price AFTER Discount</th>\n",
       "      <th>Extended Price</th>\n",
       "      <th>Shipping Method</th>\n",
       "      <th>Default Cost</th>\n",
       "      <th>CATEGORY</th>\n",
       "      <th>profit</th>\n",
       "      <th>discount</th>\n",
       "      <th>profit_pct</th>\n",
       "      <th>havedis</th>\n",
       "      <th>price_cluster</th>\n",
       "    </tr>\n",
       "  </thead>\n",
       "  <tbody>\n",
       "    <tr>\n",
       "      <th>0</th>\n",
       "      <td>PRODUCTA</td>\n",
       "      <td>141491</td>\n",
       "      <td>CHANNEL W</td>\n",
       "      <td>1</td>\n",
       "      <td>570.0</td>\n",
       "      <td>399.00</td>\n",
       "      <td>399.00</td>\n",
       "      <td>Flat Rate Shipping</td>\n",
       "      <td>173.0</td>\n",
       "      <td>Bars</td>\n",
       "      <td>226.00</td>\n",
       "      <td>70.000000</td>\n",
       "      <td>56.641604</td>\n",
       "      <td>1</td>\n",
       "      <td>4_cluster</td>\n",
       "    </tr>\n",
       "    <tr>\n",
       "      <th>1</th>\n",
       "      <td>PRODUCTA</td>\n",
       "      <td>141491</td>\n",
       "      <td>CHANNEL W</td>\n",
       "      <td>1</td>\n",
       "      <td>570.0</td>\n",
       "      <td>399.00</td>\n",
       "      <td>399.00</td>\n",
       "      <td>Flat Rate Shipping</td>\n",
       "      <td>173.0</td>\n",
       "      <td>Bars</td>\n",
       "      <td>226.00</td>\n",
       "      <td>70.000000</td>\n",
       "      <td>56.641604</td>\n",
       "      <td>1</td>\n",
       "      <td>4_cluster</td>\n",
       "    </tr>\n",
       "    <tr>\n",
       "      <th>2</th>\n",
       "      <td>PRODUCTAA</td>\n",
       "      <td>141492</td>\n",
       "      <td>CHANNEL A</td>\n",
       "      <td>1</td>\n",
       "      <td>195.0</td>\n",
       "      <td>143.52</td>\n",
       "      <td>143.52</td>\n",
       "      <td>Warehouse Pickup</td>\n",
       "      <td>43.0</td>\n",
       "      <td>End Tables</td>\n",
       "      <td>100.52</td>\n",
       "      <td>73.600000</td>\n",
       "      <td>70.039019</td>\n",
       "      <td>1</td>\n",
       "      <td>low</td>\n",
       "    </tr>\n",
       "    <tr>\n",
       "      <th>3</th>\n",
       "      <td>PRODUCTAD</td>\n",
       "      <td>141492</td>\n",
       "      <td>CHANNEL A</td>\n",
       "      <td>1</td>\n",
       "      <td>642.0</td>\n",
       "      <td>287.83</td>\n",
       "      <td>287.83</td>\n",
       "      <td>Warehouse Pickup</td>\n",
       "      <td>388.0</td>\n",
       "      <td>Tables</td>\n",
       "      <td>-100.17</td>\n",
       "      <td>44.833333</td>\n",
       "      <td>NaN</td>\n",
       "      <td>1</td>\n",
       "      <td>4_cluster</td>\n",
       "    </tr>\n",
       "    <tr>\n",
       "      <th>4</th>\n",
       "      <td>PRODUCTAD</td>\n",
       "      <td>141492</td>\n",
       "      <td>CHANNEL A</td>\n",
       "      <td>1</td>\n",
       "      <td>642.0</td>\n",
       "      <td>287.83</td>\n",
       "      <td>287.83</td>\n",
       "      <td>Warehouse Pickup</td>\n",
       "      <td>196.0</td>\n",
       "      <td>Bars</td>\n",
       "      <td>91.83</td>\n",
       "      <td>44.833333</td>\n",
       "      <td>31.904249</td>\n",
       "      <td>1</td>\n",
       "      <td>4_cluster</td>\n",
       "    </tr>\n",
       "  </tbody>\n",
       "</table>\n",
       "</div>"
      ],
      "text/plain": [
       "  Product Name  Order Number Sales Channel  Quantity  \\\n",
       "0     PRODUCTA        141491     CHANNEL W         1   \n",
       "1     PRODUCTA        141491     CHANNEL W         1   \n",
       "2    PRODUCTAA        141492     CHANNEL A         1   \n",
       "3    PRODUCTAD        141492     CHANNEL A         1   \n",
       "4    PRODUCTAD        141492     CHANNEL A         1   \n",
       "\n",
       "   Unit Price Before Discount  Unit Price AFTER Discount  Extended Price  \\\n",
       "0                       570.0                     399.00          399.00   \n",
       "1                       570.0                     399.00          399.00   \n",
       "2                       195.0                     143.52          143.52   \n",
       "3                       642.0                     287.83          287.83   \n",
       "4                       642.0                     287.83          287.83   \n",
       "\n",
       "      Shipping Method  Default Cost    CATEGORY  profit   discount  \\\n",
       "0  Flat Rate Shipping         173.0        Bars  226.00  70.000000   \n",
       "1  Flat Rate Shipping         173.0        Bars  226.00  70.000000   \n",
       "2    Warehouse Pickup          43.0  End Tables  100.52  73.600000   \n",
       "3    Warehouse Pickup         388.0      Tables -100.17  44.833333   \n",
       "4    Warehouse Pickup         196.0        Bars   91.83  44.833333   \n",
       "\n",
       "   profit_pct  havedis price_cluster  \n",
       "0   56.641604        1     4_cluster  \n",
       "1   56.641604        1     4_cluster  \n",
       "2   70.039019        1           low  \n",
       "3         NaN        1     4_cluster  \n",
       "4   31.904249        1     4_cluster  "
      ]
     },
     "execution_count": 79,
     "metadata": {},
     "output_type": "execute_result"
    }
   ],
   "source": [
    "df.head()"
   ]
  },
  {
   "cell_type": "code",
   "execution_count": 88,
   "metadata": {
    "scrolled": false
   },
   "outputs": [
    {
     "data": {
      "image/png": "[encoded data removed]",
      "text/plain": [
       "<matplotlib.figure.Figure at 0x1a10bb8a470>"
      ]
     },
     "metadata": {},
     "output_type": "display_data"
    }
   ],
   "source": [
    "ax = sns.lmplot(data = df,x = 'discount',y = 'profit_pct',size = 7,hue = 'price_cluster')"
   ]
  },
  {
   "cell_type": "code",
   "execution_count": 89,
   "metadata": {},
   "outputs": [
    {
     "data": {
      "image/png": "[encoded data removed]",
      "text/plain": [
       "<matplotlib.figure.Figure at 0x1a10bbe74e0>"
      ]
     },
     "metadata": {},
     "output_type": "display_data"
    }
   ],
   "source": [
    "ax = sns.lmplot(data = df,x = 'discount',y = 'profit_pct_log10',size = 7,hue = 'price_cluster')"
   ]
  },
  {
   "cell_type": "code",
   "execution_count": 104,
   "metadata": {
    "scrolled": true
   },
   "outputs": [
    {
     "data": {
      "text/plain": [
       "median       781\n",
       "low          727\n",
       "high         690\n",
       "2_cluster    662\n",
       "4_cluster    597\n",
       "Name: price_cluster, dtype: int64"
      ]
     },
     "execution_count": 104,
     "metadata": {},
     "output_type": "execute_result"
    }
   ],
   "source": [
    "df.price_cluster.value_counts()"
   ]
  },
  {
   "cell_type": "code",
   "execution_count": 90,
   "metadata": {},
   "outputs": [
    {
     "name": "stdout",
     "output_type": "stream",
     "text": [
      "4_cluster : 230.0, 514.46\n",
      "low : 0.0, 165.6\n",
      "high : 518.5, 5869.6\n",
      "median : 193.5, 229.5\n",
      "2_cluster : 166.5, 191.25\n"
     ]
    }
   ],
   "source": [
    "for item in df.price_cluster.unique():\n",
    "    print(item + ' : '+ str(df[df.price_cluster == item]['Unit Price AFTER Discount'].min()) +', '+ \\\n",
    "          str(df[df.price_cluster == item]['Unit Price AFTER Discount'].max()))"
   ]
  },
  {
   "cell_type": "code",
   "execution_count": 91,
   "metadata": {},
   "outputs": [],
   "source": [
    "from sklearn import linear_model"
   ]
  },
  {
   "cell_type": "code",
   "execution_count": 87,
   "metadata": {},
   "outputs": [],
   "source": [
    "lm = linear_model.LinearRegression()"
   ]
  },
  {
   "cell_type": "code",
   "execution_count": 108,
   "metadata": {},
   "outputs": [],
   "source": [
    "xy = df[df.price_cluster == 'low'][['discount','profit_pct']].dropna()"
   ]
  },
  {
   "cell_type": "code",
   "execution_count": 109,
   "metadata": {},
   "outputs": [
    {
     "data": {
      "text/plain": [
       "LinearRegression(copy_X=True, fit_intercept=True, n_jobs=1, normalize=False)"
      ]
     },
     "execution_count": 109,
     "metadata": {},
     "output_type": "execute_result"
    }
   ],
   "source": [
    "X = xy.discount.values.reshape(-1,1)\n",
    "y = xy.profit_pct\n",
    "lm.fit(X,y)"
   ]
  },
  {
   "cell_type": "code",
   "execution_count": 112,
   "metadata": {},
   "outputs": [
    {
     "data": {
      "text/plain": [
       "array([0.39200731])"
      ]
     },
     "execution_count": 112,
     "metadata": {},
     "output_type": "execute_result"
    }
   ],
   "source": [
    "lm.coef_"
   ]
  },
  {
   "cell_type": "code",
   "execution_count": 92,
   "metadata": {},
   "outputs": [],
   "source": [
    "sensetivity_discount = {}\n",
    "for item in ['low','2_cluster','median','4_cluster','high']:\n",
    "    lm = linear_model.LinearRegression()\n",
    "    xy = df[df.price_cluster == item][['discount','profit_pct']].dropna()\n",
    "    X = xy.discount.values.reshape(-1,1)\n",
    "    y = xy.profit_pct\n",
    "    lm.fit(X,y)\n",
    "    sensetivity_discount[item] = lm.coef_[0]"
   ]
  },
  {
   "cell_type": "code",
   "execution_count": null,
   "metadata": {},
   "outputs": [],
   "source": []
  },
  {
   "cell_type": "code",
   "execution_count": 93,
   "metadata": {},
   "outputs": [
    {
     "data": {
      "text/plain": [
       "{'2_cluster': -18.108522952323188,\n",
       " '4_cluster': -44.55157791117185,\n",
       " 'high': -4.55111509229221,\n",
       " 'low': -40.92141466183087,\n",
       " 'median': -25.183438962507957}"
      ]
     },
     "execution_count": 93,
     "metadata": {},
     "output_type": "execute_result"
    }
   ],
   "source": [
    "sensetivity_discount"
   ]
  },
  {
   "cell_type": "code",
   "execution_count": 103,
   "metadata": {},
   "outputs": [
    {
     "data": {
      "image/png": "[encoded data removed]",
      "text/plain": [
       "<matplotlib.figure.Figure at 0x1a1102557b8>"
      ]
     },
     "metadata": {},
     "output_type": "display_data"
    }
   ],
   "source": [
    "plt.figure(figsize=(6,6))\n",
    "ax = sns.barplot(list(sensetivity_discount.keys()),[-x for x in sensetivity_discount.values()],color= 'b',\\\n",
    "             alpha=0.4)\n",
    "ax.set_title('Discount sensitivity for each price group',fontsize = 16)\n",
    "ax.set_xlabel('price group',fontsize = 14)\n",
    "ax.set_ylabel('discount sensitivity',fontsize = 14)\n",
    "totals = []\n",
    "for i in ax.patches:\n",
    "    totals.append(i.get_height())\n",
    "total = sum(totals)\n",
    "lst = list(sensetivity_discount.values())\n",
    "for i,value in enumerate(ax.patches):\n",
    "    ax.text(value.get_x()+0.15,value.get_height()+0.01,str(round(-lst[i],2)),fontsize = 14)"
   ]
  },
  {
   "cell_type": "code",
   "execution_count": 161,
   "metadata": {},
   "outputs": [
    {
     "name": "stdout",
     "output_type": "stream",
     "text": [
      "low: 0.39\n",
      "2_cluster: 0.37\n",
      "median: 0.51\n",
      "4_cluster: 0.62\n",
      "high: 0.41\n"
     ]
    }
   ],
   "source": [
    "for k,v in sensetivity_discount.items():\n",
    "    print(k +': '+ str(round(v,2)))"
   ]
  },
  {
   "cell_type": "code",
   "execution_count": null,
   "metadata": {},
   "outputs": [],
   "source": []
  },
  {
   "cell_type": "code",
   "execution_count": null,
   "metadata": {},
   "outputs": [],
   "source": []
  }
 ],
 "metadata": {
  "kernelspec": {
   "display_name": "Python 3",
   "language": "python",
   "name": "python3"
  },
  "language_info": {
   "codemirror_mode": {
    "name": "ipython",
    "version": 3
   },
   "file_extension": ".py",
   "mimetype": "text/x-python",
   "name": "python",
   "nbconvert_exporter": "python",
   "pygments_lexer": "ipython3",
   "version": "3.6.4"
  }
 },
 "nbformat": 4,
 "nbformat_minor": 2
}
